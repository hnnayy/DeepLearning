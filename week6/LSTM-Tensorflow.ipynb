{
  "nbformat": 4,
  "nbformat_minor": 0,
  "metadata": {
    "colab": {
      "provenance": [],
      "gpuType": "T4",
      "authorship_tag": "ABX9TyO82JoXi6W8vZkMTO35hW9o",
      "include_colab_link": true
    },
    "kernelspec": {
      "name": "python3",
      "display_name": "Python 3"
    },
    "language_info": {
      "name": "python"
    },
    "accelerator": "GPU"
  },
  "cells": [
    {
      "cell_type": "markdown",
      "metadata": {
        "id": "view-in-github",
        "colab_type": "text"
      },
      "source": [
        "<a href=\"https://colab.research.google.com/github/hnnayy/DeepLearning/blob/main/week6/LSTM-Tensorflow.ipynb\" target=\"_parent\"><img src=\"https://colab.research.google.com/assets/colab-badge.svg\" alt=\"Open In Colab\"/></a>"
      ]
    },
    {
      "cell_type": "code",
      "execution_count": 3,
      "metadata": {
        "id": "iy7jrjAyW7bp"
      },
      "outputs": [],
      "source": [
        "import numpy as np\n",
        "import pandas as pd\n",
        "import matplotlib.pyplot as plt\n",
        "import requests\n",
        "import json\n",
        "import re\n",
        "import tensorflow as tf\n",
        "from tensorflow.keras.preprocessing.text import Tokenizer\n",
        "from tensorflow.keras.preprocessing.sequence import pad_sequences\n",
        "from tensorflow.keras.layers import Input, LSTM, Dense, Embedding, Dropout, Bidirectional\n",
        "from tensorflow.keras.models import Model\n",
        "from tensorflow.keras.callbacks import EarlyStopping, ModelCheckpoint\n",
        "from keras_tuner import RandomSearch\n",
        "from sklearn.model_selection import train_test_split\n",
        "from sklearn.metrics import accuracy_score, precision_score, recall_score, f1_score, roc_auc_score, confusion_matrix, classification_report, roc_curve\n",
        "import seaborn as sns\n"
      ]
    },
    {
      "cell_type": "code",
      "source": [
        "# Set random seed for reproducibility\n",
        "np.random.seed(42)\n",
        "tf.random.set_seed(42)"
      ],
      "metadata": {
        "id": "Q2jIhBXgXHw1"
      },
      "execution_count": 4,
      "outputs": []
    },
    {
      "cell_type": "code",
      "source": [
        "# Load data\n",
        "url = 'https://raw.githubusercontent.com/farrelrassya/teachingMLDL/main/02.%20Deep%20Learning/06.%20Week%206/Datasets/DeteksiSarkasme.json'\n",
        "response = requests.get(url)\n",
        "if response.status_code == 200:\n",
        "    try:\n",
        "        # Try to read as newline-delimited JSON\n",
        "        df = pd.read_json(url, lines=True)\n",
        "    except ValueError:\n",
        "        # If that fails, try to read as a list of dictionaries\n",
        "        data = json.loads(response.text)\n",
        "        df = pd.DataFrame(data)\n",
        "else:\n",
        "    print(\"Failed to download data, check URL or internet connection.\")\n",
        "\n",
        "print(\"Data shape:\", df.shape)\n",
        "print(\"\\nSample data:\")\n",
        "print(df.head())"
      ],
      "metadata": {
        "colab": {
          "base_uri": "https://localhost:8080/"
        },
        "id": "Gu_JZfLgXM4A",
        "outputId": "b4f29772-2958-4014-d6dc-7d2bc58e62d6"
      },
      "execution_count": 5,
      "outputs": [
        {
          "output_type": "stream",
          "name": "stdout",
          "text": [
            "Data shape: (26709, 3)\n",
            "\n",
            "Sample data:\n",
            "                                        article_link  \\\n",
            "0  https://www.huffingtonpost.com/entry/versace-b...   \n",
            "1  https://www.huffingtonpost.com/entry/roseanne-...   \n",
            "2  https://local.theonion.com/mom-starting-to-fea...   \n",
            "3  https://politics.theonion.com/boehner-just-wan...   \n",
            "4  https://www.huffingtonpost.com/entry/jk-rowlin...   \n",
            "\n",
            "                                            headline  is_sarcastic  \n",
            "0  former versace store clerk sues over secret 'b...             0  \n",
            "1  the 'roseanne' revival catches up to our thorn...             0  \n",
            "2  mom starting to fear son's web series closest ...             1  \n",
            "3  boehner just wants wife to listen, not come up...             1  \n",
            "4  j.k. rowling wishes snape happy birthday in th...             0  \n"
          ]
        }
      ]
    },
    {
      "cell_type": "code",
      "source": [
        "# Data preprocessing\n",
        "def clean_text(text):\n",
        "    \"\"\"Clean the text by removing special characters, links, etc.\"\"\"\n",
        "    if isinstance(text, str):\n",
        "        # Remove URLs\n",
        "        text = re.sub(r'http\\S+', '', text)\n",
        "        # Remove special characters and numbers\n",
        "        text = re.sub(r'[^\\w\\s]', '', text)\n",
        "        # Convert to lowercase\n",
        "        text = text.lower()\n",
        "        return text\n",
        "    return \"\"\n"
      ],
      "metadata": {
        "id": "zDeKQGNFXOuX"
      },
      "execution_count": 6,
      "outputs": []
    },
    {
      "cell_type": "code",
      "source": [
        "# Clean text data\n",
        "df['headline'] = df['headline'].apply(clean_text)\n",
        "\n",
        "# Split data\n",
        "X = df['headline']\n",
        "y = df['is_sarcastic']\n",
        "X_train, X_test, y_train, y_test = train_test_split(X, y, test_size=0.2, random_state=42)\n"
      ],
      "metadata": {
        "id": "EBJYi5XNXSKN"
      },
      "execution_count": 7,
      "outputs": []
    },
    {
      "cell_type": "code",
      "source": [
        "# Tokenize text\n",
        "max_words = 10000  # Maximum number of words to consider\n",
        "max_sequence_length = 100  # Maximum length of each sequence\n",
        "\n",
        "tokenizer = Tokenizer(num_words=max_words, oov_token=\"<OOV>\")\n",
        "tokenizer.fit_on_texts(X_train)\n",
        "word_index = tokenizer.word_index\n"
      ],
      "metadata": {
        "id": "RpI956iuXUKt"
      },
      "execution_count": 8,
      "outputs": []
    },
    {
      "cell_type": "code",
      "source": [
        "# Convert text to sequences\n",
        "X_train_seq = tokenizer.texts_to_sequences(X_train)\n",
        "X_test_seq = tokenizer.texts_to_sequences(X_test)\n",
        "\n",
        "# Pad sequences\n",
        "X_train_padded = pad_sequences(X_train_seq, maxlen=max_sequence_length, padding='post')\n",
        "X_test_padded = pad_sequences(X_test_seq, maxlen=max_sequence_length, padding='post')\n"
      ],
      "metadata": {
        "id": "VSYaIfORXWue"
      },
      "execution_count": 9,
      "outputs": []
    },
    {
      "cell_type": "code",
      "source": [
        "# Function to build the LSTM model (will be used for hyperparameter tuning)\n",
        "def build_model(hp):\n",
        "    # Define input\n",
        "    input_layer = Input(shape=(max_sequence_length,))\n",
        "\n",
        "    # Embedding layer\n",
        "    embedding_dim = hp.Int('embedding_dim', min_value=64, max_value=256, step=64)\n",
        "    x = Embedding(input_dim=max_words, output_dim=embedding_dim)(input_layer)\n",
        "\n",
        "    # LSTM layer(s)\n",
        "    lstm_units = hp.Int('lstm_units', min_value=32, max_value=128, step=32)\n",
        "    bidirectional = hp.Boolean('bidirectional')\n",
        "    dropout_rate = hp.Float('dropout_rate', min_value=0.2, max_value=0.5, step=0.1)\n",
        "\n",
        "    if bidirectional:\n",
        "        x = Bidirectional(LSTM(lstm_units, return_sequences=hp.Boolean('return_sequences')))(x)\n",
        "    else:\n",
        "        x = LSTM(lstm_units, return_sequences=hp.Boolean('return_sequences'))(x)\n",
        "\n",
        "    x = Dropout(dropout_rate)(x)\n",
        "\n",
        "    # Add another LSTM layer if return_sequences is True\n",
        "    if hp.Boolean('return_sequences'):\n",
        "        lstm_units_2 = hp.Int('lstm_units_2', min_value=16, max_value=64, step=16)\n",
        "        if bidirectional:\n",
        "            x = Bidirectional(LSTM(lstm_units_2))(x)\n",
        "        else:\n",
        "            x = LSTM(lstm_units_2)(x)\n",
        "        x = Dropout(dropout_rate)(x)\n",
        "\n",
        "    # Dense layers\n",
        "    dense_units = hp.Int('dense_units', min_value=16, max_value=64, step=16)\n",
        "    x = Dense(dense_units, activation='relu')(x)\n",
        "    x = Dropout(dropout_rate)(x)\n",
        "\n",
        "    # Output layer\n",
        "    output_layer = Dense(1, activation='sigmoid')(x)\n",
        "\n",
        "    # Create model\n",
        "    model = Model(inputs=input_layer, outputs=output_layer)\n",
        "\n",
        "    # Compile model\n",
        "    learning_rate = hp.Float('learning_rate', min_value=1e-4, max_value=1e-2, sampling='log')\n",
        "    model.compile(\n",
        "        optimizer=tf.keras.optimizers.Adam(learning_rate=learning_rate),\n",
        "        loss='binary_crossentropy',\n",
        "        metrics=['accuracy', tf.keras.metrics.Precision(), tf.keras.metrics.Recall(),\n",
        "                 tf.keras.metrics.AUC()]\n",
        "    )\n",
        "\n",
        "    return model\n"
      ],
      "metadata": {
        "id": "UmjROxatXYtS"
      },
      "execution_count": 10,
      "outputs": []
    },
    {
      "cell_type": "code",
      "source": [
        "# Hyperparameter tuning using Keras Tuner\n",
        "tuner = RandomSearch(\n",
        "    build_model,\n",
        "    objective='val_accuracy',\n",
        "    max_trials=3,\n",
        "    executions_per_trial=1,\n",
        "    directory='keras_tuner',\n",
        "    project_name='sarcasm_detection'\n",
        ")"
      ],
      "metadata": {
        "id": "AK19jzTZXcbB"
      },
      "execution_count": 12,
      "outputs": []
    },
    {
      "cell_type": "code",
      "source": [
        "# Define early stopping callback\n",
        "early_stopping = EarlyStopping(\n",
        "    monitor='val_loss',\n",
        "    patience=3,\n",
        "    restore_best_weights=True\n",
        ")"
      ],
      "metadata": {
        "id": "BLRcGnktXeTb"
      },
      "execution_count": 13,
      "outputs": []
    },
    {
      "cell_type": "code",
      "source": [
        "# Run hyperparameter search\n",
        "tuner.search(\n",
        "    X_train_padded,\n",
        "    y_train,\n",
        "    epochs=5,\n",
        "    validation_split=0.2,\n",
        "    callbacks=[early_stopping]\n",
        ")"
      ],
      "metadata": {
        "colab": {
          "base_uri": "https://localhost:8080/"
        },
        "id": "zv1oq4sLXkuM",
        "outputId": "6fd446b6-e82c-4141-9f39-10620a0e795c"
      },
      "execution_count": 14,
      "outputs": [
        {
          "output_type": "stream",
          "name": "stdout",
          "text": [
            "Trial 3 Complete [00h 00m 50s]\n",
            "val_accuracy: 0.5538137555122375\n",
            "\n",
            "Best val_accuracy So Far: 0.857510507106781\n",
            "Total elapsed time: 00h 02m 45s\n"
          ]
        }
      ]
    },
    {
      "cell_type": "code",
      "source": [
        "# Get the best hyperparameters and build the best model\n",
        "best_hps = tuner.get_best_hyperparameters(num_trials=1)[0]\n",
        "print(f\"\\nBest Hyperparameters: {best_hps.values}\")\n"
      ],
      "metadata": {
        "colab": {
          "base_uri": "https://localhost:8080/"
        },
        "id": "n-Rw3oGXXoA4",
        "outputId": "5caf940c-8401-4d12-c33d-3512f7c1d827"
      },
      "execution_count": 15,
      "outputs": [
        {
          "output_type": "stream",
          "name": "stdout",
          "text": [
            "\n",
            "Best Hyperparameters: {'embedding_dim': 128, 'lstm_units': 32, 'bidirectional': True, 'dropout_rate': 0.4, 'return_sequences': False, 'dense_units': 64, 'learning_rate': 0.0006425128602850993, 'lstm_units_2': 16}\n"
          ]
        }
      ]
    },
    {
      "cell_type": "code",
      "source": [
        "# Build the best model\n",
        "best_model = tuner.hypermodel.build(best_hps)\n"
      ],
      "metadata": {
        "id": "MkKQcUwYYSyL"
      },
      "execution_count": 16,
      "outputs": []
    },
    {
      "cell_type": "code",
      "source": [
        "# Model checkpoint to save the best model\n",
        "model_checkpoint = ModelCheckpoint(\n",
        "    'best_model.h5',\n",
        "    monitor='val_accuracy',\n",
        "    save_best_only=True,\n",
        "    mode='max',\n",
        "    verbose=1\n",
        ")"
      ],
      "metadata": {
        "id": "38s4H8-2YUc_"
      },
      "execution_count": 17,
      "outputs": []
    },
    {
      "cell_type": "code",
      "source": [
        "# Train the best model\n",
        "history = best_model.fit(\n",
        "    X_train_padded,\n",
        "    y_train,\n",
        "    epochs=7,  # Increase for better results\n",
        "    batch_size=64,\n",
        "    validation_split=0.2,\n",
        "    callbacks=[early_stopping, model_checkpoint]\n",
        ")"
      ],
      "metadata": {
        "colab": {
          "base_uri": "https://localhost:8080/"
        },
        "id": "PRvDamAzYV7k",
        "outputId": "7f0d0fa7-4a7c-416a-c62a-fd442ceb4b03"
      },
      "execution_count": 19,
      "outputs": [
        {
          "output_type": "stream",
          "name": "stdout",
          "text": [
            "Epoch 1/7\n",
            "\u001b[1m266/268\u001b[0m \u001b[32m━━━━━━━━━━━━━━━━━━━\u001b[0m\u001b[37m━\u001b[0m \u001b[1m0s\u001b[0m 14ms/step - accuracy: 0.9648 - auc_3: 0.9904 - loss: 0.1114 - precision_3: 0.9635 - recall_3: 0.9565\n",
            "Epoch 1: val_accuracy did not improve from 0.85423\n",
            "\u001b[1m268/268\u001b[0m \u001b[32m━━━━━━━━━━━━━━━━━━━━\u001b[0m\u001b[37m\u001b[0m \u001b[1m5s\u001b[0m 17ms/step - accuracy: 0.9647 - auc_3: 0.9903 - loss: 0.1117 - precision_3: 0.9633 - recall_3: 0.9564 - val_accuracy: 0.8456 - val_auc_3: 0.9230 - val_loss: 0.4286 - val_precision_3: 0.8163 - val_recall_3: 0.8437\n",
            "Epoch 2/7\n",
            "\u001b[1m268/268\u001b[0m \u001b[32m━━━━━━━━━━━━━━━━━━━━\u001b[0m\u001b[37m\u001b[0m \u001b[1m0s\u001b[0m 12ms/step - accuracy: 0.9720 - auc_3: 0.9941 - loss: 0.0887 - precision_3: 0.9675 - recall_3: 0.9692\n",
            "Epoch 2: val_accuracy did not improve from 0.85423\n",
            "\u001b[1m268/268\u001b[0m \u001b[32m━━━━━━━━━━━━━━━━━━━━\u001b[0m\u001b[37m\u001b[0m \u001b[1m5s\u001b[0m 15ms/step - accuracy: 0.9720 - auc_3: 0.9941 - loss: 0.0887 - precision_3: 0.9675 - recall_3: 0.9692 - val_accuracy: 0.8346 - val_auc_3: 0.9135 - val_loss: 0.5402 - val_precision_3: 0.8212 - val_recall_3: 0.8044\n",
            "Epoch 3/7\n",
            "\u001b[1m266/268\u001b[0m \u001b[32m━━━━━━━━━━━━━━━━━━━\u001b[0m\u001b[37m━\u001b[0m \u001b[1m0s\u001b[0m 12ms/step - accuracy: 0.9833 - auc_3: 0.9971 - loss: 0.0563 - precision_3: 0.9824 - recall_3: 0.9797\n",
            "Epoch 3: val_accuracy did not improve from 0.85423\n",
            "\u001b[1m268/268\u001b[0m \u001b[32m━━━━━━━━━━━━━━━━━━━━\u001b[0m\u001b[37m\u001b[0m \u001b[1m4s\u001b[0m 14ms/step - accuracy: 0.9833 - auc_3: 0.9971 - loss: 0.0563 - precision_3: 0.9824 - recall_3: 0.9797 - val_accuracy: 0.8325 - val_auc_3: 0.9047 - val_loss: 0.6411 - val_precision_3: 0.8303 - val_recall_3: 0.7850\n",
            "Epoch 4/7\n",
            "\u001b[1m266/268\u001b[0m \u001b[32m━━━━━━━━━━━━━━━━━━━\u001b[0m\u001b[37m━\u001b[0m \u001b[1m0s\u001b[0m 15ms/step - accuracy: 0.9868 - auc_3: 0.9981 - loss: 0.0428 - precision_3: 0.9863 - recall_3: 0.9838\n",
            "Epoch 4: val_accuracy did not improve from 0.85423\n",
            "\u001b[1m268/268\u001b[0m \u001b[32m━━━━━━━━━━━━━━━━━━━━\u001b[0m\u001b[37m\u001b[0m \u001b[1m4s\u001b[0m 16ms/step - accuracy: 0.9868 - auc_3: 0.9981 - loss: 0.0428 - precision_3: 0.9863 - recall_3: 0.9838 - val_accuracy: 0.8306 - val_auc_3: 0.8888 - val_loss: 0.8214 - val_precision_3: 0.8220 - val_recall_3: 0.7918\n"
          ]
        }
      ]
    },
    {
      "cell_type": "code",
      "source": [
        "# Evaluate the model on the test set\n",
        "y_pred_prob = best_model.predict(X_test_padded)\n",
        "y_pred = (y_pred_prob > 0.5).astype(int).flatten()\n"
      ],
      "metadata": {
        "colab": {
          "base_uri": "https://localhost:8080/"
        },
        "id": "G0-9M76zYXtr",
        "outputId": "885a36bd-2f7f-4a62-a0e7-2490c38de98e"
      },
      "execution_count": 20,
      "outputs": [
        {
          "output_type": "stream",
          "name": "stdout",
          "text": [
            "\u001b[1m167/167\u001b[0m \u001b[32m━━━━━━━━━━━━━━━━━━━━\u001b[0m\u001b[37m\u001b[0m \u001b[1m1s\u001b[0m 6ms/step\n"
          ]
        }
      ]
    },
    {
      "cell_type": "code",
      "source": [
        "# Calculate metrics\n",
        "accuracy = accuracy_score(y_test, y_pred)\n",
        "precision = precision_score(y_test, y_pred)\n",
        "recall = recall_score(y_test, y_pred)\n",
        "f1 = f1_score(y_test, y_pred)\n",
        "auc = roc_auc_score(y_test, y_pred_prob)\n",
        "\n",
        "print(\"\\nTest Metrics:\")\n",
        "print(f\"Accuracy: {accuracy:.4f}\")\n",
        "print(f\"Precision: {precision:.4f}\")\n",
        "print(f\"Recall: {recall:.4f}\")\n",
        "print(f\"F1 Score: {f1:.4f}\")\n",
        "print(f\"AUC: {auc:.4f}\")\n"
      ],
      "metadata": {
        "colab": {
          "base_uri": "https://localhost:8080/"
        },
        "id": "hKEqRzt9Ylar",
        "outputId": "e68693dc-fe8c-4b5a-fce8-3075f3984e03"
      },
      "execution_count": 21,
      "outputs": [
        {
          "output_type": "stream",
          "name": "stdout",
          "text": [
            "\n",
            "Test Metrics:\n",
            "Accuracy: 0.8443\n",
            "Precision: 0.8120\n",
            "Recall: 0.8397\n",
            "F1 Score: 0.8256\n",
            "AUC: 0.9238\n"
          ]
        }
      ]
    },
    {
      "cell_type": "code",
      "source": [
        "# Print classification report\n",
        "print(\"\\nClassification Report:\")\n",
        "print(classification_report(y_test, y_pred))\n"
      ],
      "metadata": {
        "colab": {
          "base_uri": "https://localhost:8080/"
        },
        "id": "n5i9qF7jYnlU",
        "outputId": "8ccf69f7-c7d4-4265-cb63-3b03238f420a"
      },
      "execution_count": 22,
      "outputs": [
        {
          "output_type": "stream",
          "name": "stdout",
          "text": [
            "\n",
            "Classification Report:\n",
            "              precision    recall  f1-score   support\n",
            "\n",
            "           0       0.87      0.85      0.86      2996\n",
            "           1       0.81      0.84      0.83      2346\n",
            "\n",
            "    accuracy                           0.84      5342\n",
            "   macro avg       0.84      0.84      0.84      5342\n",
            "weighted avg       0.85      0.84      0.84      5342\n",
            "\n"
          ]
        }
      ]
    },
    {
      "cell_type": "code",
      "source": [
        "# Visualize training history\n",
        "plt.figure(figsize=(12, 5))\n"
      ],
      "metadata": {
        "colab": {
          "base_uri": "https://localhost:8080/",
          "height": 52
        },
        "id": "kQ0H1wnBYqOc",
        "outputId": "eecb57a4-b230-4822-ac4c-d099a1d76916"
      },
      "execution_count": 23,
      "outputs": [
        {
          "output_type": "execute_result",
          "data": {
            "text/plain": [
              "<Figure size 1200x500 with 0 Axes>"
            ]
          },
          "metadata": {},
          "execution_count": 23
        },
        {
          "output_type": "display_data",
          "data": {
            "text/plain": [
              "<Figure size 1200x500 with 0 Axes>"
            ]
          },
          "metadata": {}
        }
      ]
    },
    {
      "cell_type": "code",
      "source": [
        "# Plot accuracy\n",
        "plt.subplot(1, 2, 1)\n",
        "plt.plot(history.history['accuracy'], label='Training Accuracy')\n",
        "plt.plot(history.history['val_accuracy'], label='Validation Accuracy')\n",
        "plt.title('Model Accuracy')\n",
        "plt.xlabel('Epoch')\n",
        "plt.ylabel('Accuracy')\n",
        "plt.legend()"
      ],
      "metadata": {
        "colab": {
          "base_uri": "https://localhost:8080/",
          "height": 489
        },
        "id": "D7hUVHdqYu_P",
        "outputId": "91bf2c70-c258-4536-e1c9-0623335bbc43"
      },
      "execution_count": 24,
      "outputs": [
        {
          "output_type": "execute_result",
          "data": {
            "text/plain": [
              "<matplotlib.legend.Legend at 0x7e90494e4110>"
            ]
          },
          "metadata": {},
          "execution_count": 24
        },
        {
          "output_type": "display_data",
          "data": {
            "text/plain": [
              "<Figure size 640x480 with 1 Axes>"
            ],
            "image/png": "[encoded data removed]"
          },
          "metadata": {}
        }
      ]
    },
    {
      "cell_type": "code",
      "source": [
        "# Plot loss\n",
        "plt.subplot(1, 2, 2)\n",
        "plt.plot(history.history['loss'], label='Training Loss')\n",
        "plt.plot(history.history['val_loss'], label='Validation Loss')\n",
        "plt.title('Model Loss')\n",
        "plt.xlabel('Epoch')\n",
        "plt.ylabel('Loss')\n",
        "plt.legend()\n",
        "\n",
        "plt.tight_layout()\n",
        "plt.savefig('training_history.png')\n",
        "plt.show()"
      ],
      "metadata": {
        "colab": {
          "base_uri": "https://localhost:8080/",
          "height": 487
        },
        "id": "uzyQaxQIYxFA",
        "outputId": "c79cfb23-7cff-4d13-8028-4231ff7066d6"
      },
      "execution_count": 26,
      "outputs": [
        {
          "output_type": "display_data",
          "data": {
            "text/plain": [
              "<Figure size 640x480 with 1 Axes>"
            ],
            "image/png": "[encoded data removed]"
          },
          "metadata": {}
        }
      ]
    },
    {
      "cell_type": "code",
      "source": [
        "# Plot confusion matrix\n",
        "cm = confusion_matrix(y_test, y_pred)\n",
        "plt.figure(figsize=(8, 6))\n",
        "sns.heatmap(cm, annot=True, fmt='d', cmap='Blues', cbar=False)\n",
        "plt.title('Confusion Matrix')\n",
        "plt.xlabel('Predicted')\n",
        "plt.ylabel('Actual')\n",
        "plt.savefig('confusion_matrix.png')\n",
        "plt.show()"
      ],
      "metadata": {
        "colab": {
          "base_uri": "https://localhost:8080/",
          "height": 564
        },
        "id": "rgpkEqlaYzP5",
        "outputId": "2080805d-82c2-4a6a-b791-6fd7f18370ac"
      },
      "execution_count": 27,
      "outputs": [
        {
          "output_type": "display_data",
          "data": {
            "text/plain": [
              "<Figure size 800x600 with 1 Axes>"
            ],
            "image/png": "[encoded data removed]"
          },
          "metadata": {}
        }
      ]
    },
    {
      "cell_type": "code",
      "source": [
        "# Plot ROC curve\n",
        "fpr, tpr, _ = roc_curve(y_test, y_pred_prob)\n",
        "plt.figure(figsize=(8, 6))\n",
        "plt.plot(fpr, tpr, label=f'AUC = {auc:.3f}')\n",
        "plt.plot([0, 1], [0, 1], 'k--')\n",
        "plt.xlabel('False Positive Rate')\n",
        "plt.ylabel('True Positive Rate')\n",
        "plt.title('ROC Curve')\n",
        "plt.legend(loc='lower right')\n",
        "plt.savefig('roc_curve.png')\n",
        "plt.show()"
      ],
      "metadata": {
        "colab": {
          "base_uri": "https://localhost:8080/",
          "height": 564
        },
        "id": "OT02cnFnY4uS",
        "outputId": "eee51ff7-c028-4dcf-93da-dd27606327a6"
      },
      "execution_count": 28,
      "outputs": [
        {
          "output_type": "display_data",
          "data": {
            "text/plain": [
              "<Figure size 800x600 with 1 Axes>"
            ],
            "image/png": "[encoded data removed]"
          },
          "metadata": {}
        }
      ]
    },
    {
      "cell_type": "code",
      "source": [],
      "metadata": {
        "id": "K4P8eMfDY62f"
      },
      "execution_count": null,
      "outputs": []
    }
  ]
}