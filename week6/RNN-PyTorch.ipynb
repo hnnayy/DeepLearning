{
  "nbformat": 4,
  "nbformat_minor": 0,
  "metadata": {
    "colab": {
      "provenance": [],
      "gpuType": "T4",
      "authorship_tag": "ABX9TyOGhckAk1fV+aEKrP9WXRh+",
      "include_colab_link": true
    },
    "kernelspec": {
      "name": "python3",
      "display_name": "Python 3"
    },
    "language_info": {
      "name": "python"
    },
    "accelerator": "GPU"
  },
  "cells": [
    {
      "cell_type": "markdown",
      "metadata": {
        "id": "view-in-github",
        "colab_type": "text"
      },
      "source": [
        "<a href=\"https://colab.research.google.com/github/hnnayy/DeepLearning/blob/main/week6/RNN-PyTorch.ipynb\" target=\"_parent\"><img src=\"https://colab.research.google.com/assets/colab-badge.svg\" alt=\"Open In Colab\"/></a>"
      ]
    },
    {
      "cell_type": "code",
      "execution_count": 1,
      "metadata": {
        "id": "jGSQdxpMBw3A"
      },
      "outputs": [],
      "source": [
        "import pandas as pd\n",
        "import numpy as np\n",
        "import json\n",
        "import requests\n",
        "import matplotlib.pyplot as plt\n",
        "import torch\n",
        "import torch.nn as nn\n",
        "import torch.optim as optim\n",
        "from torch.utils.data import Dataset, DataLoader\n",
        "from sklearn.model_selection import train_test_split\n",
        "from sklearn.metrics import accuracy_score, precision_score, recall_score, f1_score, roc_auc_score, roc_curve, confusion_matrix\n",
        "import seaborn as sns\n",
        "from tqdm import tqdm\n",
        "import nltk\n",
        "from nltk.tokenize import word_tokenize\n",
        "from collections import Counter"
      ]
    },
    {
      "cell_type": "code",
      "source": [
        "# Download necessary NLTK data\n",
        "nltk.download('punkt')\n",
        "nltk.download('punkt_tab')\n"
      ],
      "metadata": {
        "colab": {
          "base_uri": "https://localhost:8080/"
        },
        "id": "ZRBcoc4dCCmG",
        "outputId": "4df8a149-c9b8-49e6-fe65-3e3f7271887a"
      },
      "execution_count": 7,
      "outputs": [
        {
          "output_type": "stream",
          "name": "stderr",
          "text": [
            "[nltk_data] Downloading package punkt to /root/nltk_data...\n",
            "[nltk_data]   Package punkt is already up-to-date!\n",
            "[nltk_data] Downloading package punkt_tab to /root/nltk_data...\n",
            "[nltk_data]   Unzipping tokenizers/punkt_tab.zip.\n"
          ]
        },
        {
          "output_type": "execute_result",
          "data": {
            "text/plain": [
              "True"
            ]
          },
          "metadata": {},
          "execution_count": 7
        }
      ]
    },
    {
      "cell_type": "code",
      "source": [
        "# Set random seed for reproducibility\n",
        "SEED = 42\n",
        "torch.manual_seed(SEED)\n",
        "np.random.seed(SEED)\n"
      ],
      "metadata": {
        "id": "npeNhZ2qCOWY"
      },
      "execution_count": 8,
      "outputs": []
    },
    {
      "cell_type": "code",
      "source": [
        "# Check if GPU is available\n",
        "device = torch.device('cuda' if torch.cuda.is_available() else 'cpu')\n",
        "print(f\"Using device: {device}\")\n"
      ],
      "metadata": {
        "colab": {
          "base_uri": "https://localhost:8080/"
        },
        "id": "4ZvkhP1nCQG6",
        "outputId": "03c552e9-8e86-414d-a53c-de8277a610ce"
      },
      "execution_count": 9,
      "outputs": [
        {
          "output_type": "stream",
          "name": "stdout",
          "text": [
            "Using device: cuda\n"
          ]
        }
      ]
    },
    {
      "cell_type": "code",
      "source": [
        "# Load data\n",
        "url = 'https://raw.githubusercontent.com/farrelrassya/teachingMLDL/main/02.%20Deep%20Learning/06.%20Week%206/Datasets/DeteksiSarkasme.json'\n",
        "response = requests.get(url)\n",
        "\n",
        "if response.status_code == 200:\n",
        "    try:\n",
        "        # Try to read as newline-delimited JSON\n",
        "        df = pd.read_json(url, lines=True)\n",
        "    except ValueError:\n",
        "        # If that fails, try to read as a list of dictionaries\n",
        "        data = json.loads(response.text)\n",
        "        df = pd.DataFrame(data)\n",
        "else:\n",
        "    print(\"Failed to download data, check URL or internet connection.\")\n",
        "\n",
        "print(\"Data shape:\", df.shape)\n",
        "print(\"\\nSample data:\")\n",
        "print(df.head())\n"
      ],
      "metadata": {
        "colab": {
          "base_uri": "https://localhost:8080/"
        },
        "id": "FOS0rNqtCRix",
        "outputId": "439f7f05-cf21-4d82-9ab5-d5febd94d8de"
      },
      "execution_count": 10,
      "outputs": [
        {
          "output_type": "stream",
          "name": "stdout",
          "text": [
            "Data shape: (26709, 3)\n",
            "\n",
            "Sample data:\n",
            "                                        article_link  \\\n",
            "0  https://www.huffingtonpost.com/entry/versace-b...   \n",
            "1  https://www.huffingtonpost.com/entry/roseanne-...   \n",
            "2  https://local.theonion.com/mom-starting-to-fea...   \n",
            "3  https://politics.theonion.com/boehner-just-wan...   \n",
            "4  https://www.huffingtonpost.com/entry/jk-rowlin...   \n",
            "\n",
            "                                            headline  is_sarcastic  \n",
            "0  former versace store clerk sues over secret 'b...             0  \n",
            "1  the 'roseanne' revival catches up to our thorn...             0  \n",
            "2  mom starting to fear son's web series closest ...             1  \n",
            "3  boehner just wants wife to listen, not come up...             1  \n",
            "4  j.k. rowling wishes snape happy birthday in th...             0  \n"
          ]
        }
      ]
    },
    {
      "cell_type": "code",
      "source": [
        "# Check for missing values\n",
        "print(\"\\nMissing values:\")\n",
        "print(df.isnull().sum())"
      ],
      "metadata": {
        "colab": {
          "base_uri": "https://localhost:8080/"
        },
        "id": "YsOIx9YYCVTs",
        "outputId": "baa42d7b-abfa-4898-b557-ab20ba200c28"
      },
      "execution_count": 13,
      "outputs": [
        {
          "output_type": "stream",
          "name": "stdout",
          "text": [
            "\n",
            "Missing values:\n",
            "article_link    0\n",
            "headline        0\n",
            "is_sarcastic    0\n",
            "dtype: int64\n"
          ]
        }
      ]
    },
    {
      "cell_type": "code",
      "source": [
        "# Check class distribution\n",
        "print(\"\\nClass distribution:\")\n",
        "print(df['is_sarcastic'].value_counts())\n"
      ],
      "metadata": {
        "colab": {
          "base_uri": "https://localhost:8080/"
        },
        "id": "pEz-gk0DCY4y",
        "outputId": "fe0623b8-0804-4a0b-cbf5-1ba9a5bfc964"
      },
      "execution_count": 14,
      "outputs": [
        {
          "output_type": "stream",
          "name": "stdout",
          "text": [
            "\n",
            "Class distribution:\n",
            "is_sarcastic\n",
            "0    14985\n",
            "1    11724\n",
            "Name: count, dtype: int64\n"
          ]
        }
      ]
    },
    {
      "cell_type": "code",
      "source": [
        "# Preprocess text data\n",
        "def preprocess_text(texts):\n",
        "    tokenized_texts = [word_tokenize(text.lower()) for text in texts]\n",
        "    return tokenized_texts\n",
        "\n",
        "# Tokenize the headlines\n",
        "tokenized_headlines = preprocess_text(df['headline'].values)\n",
        "\n",
        "# Build vocabulary\n",
        "word_counts = Counter()\n",
        "for tokens in tokenized_headlines:\n",
        "    word_counts.update(tokens)"
      ],
      "metadata": {
        "id": "nyfJU2e3C1ve"
      },
      "execution_count": 16,
      "outputs": []
    },
    {
      "cell_type": "code",
      "source": [
        "# Keep only the most common words\n",
        "vocab_size = 10000\n",
        "vocab = ['<PAD>', '<UNK>'] + [word for word, count in word_counts.most_common(vocab_size-2)]\n",
        "word_to_idx = {word: idx for idx, word in enumerate(vocab)}\n"
      ],
      "metadata": {
        "id": "uRpdFwuUC2Jh"
      },
      "execution_count": 17,
      "outputs": []
    },
    {
      "cell_type": "code",
      "source": [
        "# Function to convert tokens to indices\n",
        "def tokens_to_indices(tokens, word_to_idx, max_len=50):\n",
        "    indices = [word_to_idx.get(token, 1) for token in tokens]  # 1 is <UNK>\n",
        "\n",
        "    # Padding or truncating\n",
        "    if len(indices) < max_len:\n",
        "        indices += [0] * (max_len - len(indices))  # 0 is <PAD>\n",
        "    else:\n",
        "        indices = indices[:max_len]\n",
        "\n",
        "    return indices\n"
      ],
      "metadata": {
        "id": "BpVoZ4-4C8Uf"
      },
      "execution_count": 18,
      "outputs": []
    },
    {
      "cell_type": "code",
      "source": [
        "# Convert all tokenized headlines to indices\n",
        "max_len = 50\n",
        "headline_indices = [tokens_to_indices(tokens, word_to_idx, max_len) for tokens in tokenized_headlines]\n"
      ],
      "metadata": {
        "id": "b6fgj5BuC-LP"
      },
      "execution_count": 19,
      "outputs": []
    },
    {
      "cell_type": "code",
      "source": [
        "# Create PyTorch dataset\n",
        "class SarcasmDataset(Dataset):\n",
        "    def __init__(self, indices, labels):\n",
        "        self.indices = indices\n",
        "        self.labels = labels\n",
        "\n",
        "    def __len__(self):\n",
        "        return len(self.labels)\n",
        "\n",
        "    def __getitem__(self, idx):\n",
        "        return torch.tensor(self.indices[idx], dtype=torch.long), torch.tensor(self.labels[idx], dtype=torch.float32)\n"
      ],
      "metadata": {
        "id": "-jO0ymAVDAd_"
      },
      "execution_count": 20,
      "outputs": []
    },
    {
      "cell_type": "code",
      "source": [
        "# Split data into train, validation, and test sets\n",
        "X_train_val, X_test, y_train_val, y_test = train_test_split(\n",
        "    headline_indices, df['is_sarcastic'].values,\n",
        "    test_size=0.2, random_state=SEED, stratify=df['is_sarcastic'].values\n",
        ")\n",
        "\n",
        "X_train, X_val, y_train, y_val = train_test_split(\n",
        "    X_train_val, y_train_val,\n",
        "    test_size=0.25, random_state=SEED, stratify=y_train_val\n",
        ")"
      ],
      "metadata": {
        "id": "dC2Ijjo8DDh8"
      },
      "execution_count": 21,
      "outputs": []
    },
    {
      "cell_type": "code",
      "source": [
        "# Create datasets\n",
        "train_dataset = SarcasmDataset(X_train, y_train)\n",
        "val_dataset = SarcasmDataset(X_val, y_val)\n",
        "test_dataset = SarcasmDataset(X_test, y_test)\n"
      ],
      "metadata": {
        "id": "tOSpCHIKDH5W"
      },
      "execution_count": 22,
      "outputs": []
    },
    {
      "cell_type": "code",
      "source": [
        "# Create dataloaders\n",
        "batch_size = 64\n",
        "train_loader = DataLoader(train_dataset, batch_size=batch_size, shuffle=True)\n",
        "val_loader = DataLoader(val_dataset, batch_size=batch_size)\n",
        "test_loader = DataLoader(test_dataset, batch_size=batch_size)\n"
      ],
      "metadata": {
        "id": "14ehLxAaDJhn"
      },
      "execution_count": 23,
      "outputs": []
    },
    {
      "cell_type": "code",
      "source": [
        "# Define RNN model\n",
        "class SarcasmRNN(nn.Module):\n",
        "    def __init__(self, vocab_size, embedding_dim, hidden_dim, output_dim, n_layers, bidirectional, dropout):\n",
        "        super().__init__()\n",
        "\n",
        "        self.embedding = nn.Embedding(vocab_size, embedding_dim, padding_idx=0)\n",
        "        self.rnn = nn.LSTM(embedding_dim,\n",
        "                           hidden_dim,\n",
        "                           num_layers=n_layers,\n",
        "                           bidirectional=bidirectional,\n",
        "                           dropout=dropout if n_layers > 1 else 0,\n",
        "                           batch_first=True)\n",
        "\n",
        "        self.fc = nn.Linear(hidden_dim * 2 if bidirectional else hidden_dim, output_dim)\n",
        "        self.dropout = nn.Dropout(dropout)\n",
        "\n",
        "    def forward(self, text):\n",
        "        # text shape: [batch size, sequence length]\n",
        "\n",
        "        embedded = self.embedding(text)\n",
        "        # embedded shape: [batch size, sequence length, embedding dim]\n",
        "\n",
        "        output, (hidden, cell) = self.rnn(embedded)\n",
        "        # output shape: [batch size, sequence length, hidden dim * num directions]\n",
        "\n",
        "        # Use the final hidden state\n",
        "        if self.rnn.bidirectional:\n",
        "            hidden = torch.cat((hidden[-2,:,:], hidden[-1,:,:]), dim=1)\n",
        "        else:\n",
        "            hidden = hidden[-1,:,:]\n",
        "        # hidden shape: [batch size, hidden dim * num directions]\n",
        "\n",
        "        hidden = self.dropout(hidden)\n",
        "        output = self.fc(hidden)\n",
        "        # output shape: [batch size, output dim]\n",
        "\n",
        "        return output"
      ],
      "metadata": {
        "id": "Iwdrb59XDMYY"
      },
      "execution_count": 24,
      "outputs": []
    },
    {
      "cell_type": "code",
      "source": [
        "# Set model hyperparameters\n",
        "INPUT_DIM = len(vocab)\n",
        "EMBEDDING_DIM = 100\n",
        "HIDDEN_DIM = 128\n",
        "OUTPUT_DIM = 1\n",
        "N_LAYERS = 2\n",
        "BIDIRECTIONAL = True\n",
        "DROPOUT = 0.5"
      ],
      "metadata": {
        "id": "wTh9dIKbDOlE"
      },
      "execution_count": 25,
      "outputs": []
    },
    {
      "cell_type": "code",
      "source": [
        "\n",
        "# Initialize model\n",
        "model = SarcasmRNN(INPUT_DIM, EMBEDDING_DIM, HIDDEN_DIM, OUTPUT_DIM, N_LAYERS, BIDIRECTIONAL, DROPOUT)\n",
        "model = model.to(device)\n",
        "\n",
        "# Loss function and optimizer\n",
        "criterion = nn.BCEWithLogitsLoss()\n",
        "optimizer = optim.Adam(model.parameters(), lr=0.001)"
      ],
      "metadata": {
        "id": "zctDKjlJDQzJ"
      },
      "execution_count": 26,
      "outputs": []
    },
    {
      "cell_type": "code",
      "source": [
        "# Function to calculate metrics\n",
        "def calculate_metrics(y_true, y_pred, y_prob):\n",
        "    acc = accuracy_score(y_true, y_pred)\n",
        "    prec = precision_score(y_true, y_pred)\n",
        "    rec = recall_score(y_true, y_pred)\n",
        "    f1 = f1_score(y_true, y_pred)\n",
        "    auc = roc_auc_score(y_true, y_prob)\n",
        "\n",
        "    return {\n",
        "        'accuracy': acc,\n",
        "        'precision': prec,\n",
        "        'recall': rec,\n",
        "        'f1_score': f1,\n",
        "        'auc': auc\n",
        "    }"
      ],
      "metadata": {
        "id": "9dAeuJ9ADTB0"
      },
      "execution_count": 27,
      "outputs": []
    },
    {
      "cell_type": "code",
      "source": [
        "# Training function\n",
        "def train(model, iterator, optimizer, criterion):\n",
        "    model.train()\n",
        "\n",
        "    epoch_loss = 0\n",
        "    all_preds = []\n",
        "    all_probs = []\n",
        "    all_labels = []\n",
        "\n",
        "    for batch in tqdm(iterator, desc=\"Training\"):\n",
        "        optimizer.zero_grad()\n",
        "\n",
        "        text, labels = batch\n",
        "        text, labels = text.to(device), labels.to(device)\n",
        "\n",
        "        predictions = model(text).squeeze(1)\n",
        "        loss = criterion(predictions, labels)\n",
        "\n",
        "        loss.backward()\n",
        "        optimizer.step()\n",
        "\n",
        "        epoch_loss += loss.item()\n",
        "\n",
        "        # Convert predictions to numpy arrays for metric calculation\n",
        "        preds = torch.sigmoid(predictions).detach().cpu().numpy()\n",
        "        binary_preds = (preds > 0.5).astype(int)\n",
        "\n",
        "        all_preds.extend(binary_preds)\n",
        "        all_probs.extend(preds)\n",
        "        all_labels.extend(labels.cpu().numpy())\n",
        "\n",
        "    # Calculate metrics\n",
        "    metrics = calculate_metrics(all_labels, all_preds, all_probs)\n",
        "\n",
        "    return epoch_loss / len(iterator), metrics\n"
      ],
      "metadata": {
        "id": "MLF8F4WsDWIV"
      },
      "execution_count": 28,
      "outputs": []
    },
    {
      "cell_type": "code",
      "source": [
        "# Evaluation function\n",
        "def evaluate(model, iterator, criterion):\n",
        "    model.eval()\n",
        "\n",
        "    epoch_loss = 0\n",
        "    all_preds = []\n",
        "    all_probs = []\n",
        "    all_labels = []\n",
        "\n",
        "    with torch.no_grad():\n",
        "        for batch in tqdm(iterator, desc=\"Evaluating\"):\n",
        "            text, labels = batch\n",
        "            text, labels = text.to(device), labels.to(device)\n",
        "\n",
        "            predictions = model(text).squeeze(1)\n",
        "            loss = criterion(predictions, labels)\n",
        "\n",
        "            epoch_loss += loss.item()\n",
        "\n",
        "            # Convert predictions to numpy arrays for metric calculation\n",
        "            preds = torch.sigmoid(predictions).cpu().numpy()\n",
        "            binary_preds = (preds > 0.5).astype(int)\n",
        "\n",
        "            all_preds.extend(binary_preds)\n",
        "            all_probs.extend(preds)\n",
        "            all_labels.extend(labels.cpu().numpy())\n",
        "\n",
        "    # Calculate metrics\n",
        "    metrics = calculate_metrics(all_labels, all_preds, all_probs)\n",
        "\n",
        "    return epoch_loss / len(iterator), metrics, all_labels, all_probs, all_preds\n"
      ],
      "metadata": {
        "id": "k-DsWWXSDYPx"
      },
      "execution_count": 29,
      "outputs": []
    },
    {
      "cell_type": "code",
      "source": [
        "# Train the model\n",
        "n_epochs = 10\n",
        "best_val_loss = float('inf')\n",
        "train_losses = []\n",
        "val_losses = []\n",
        "train_accs = []\n",
        "val_accs = []\n",
        "\n",
        "for epoch in range(n_epochs):\n",
        "    print(f\"\\nEpoch {epoch+1}/{n_epochs}\")\n",
        "\n",
        "    train_loss, train_metrics = train(model, train_loader, optimizer, criterion)\n",
        "    val_loss, val_metrics, _, _, _ = evaluate(model, val_loader, criterion)\n",
        "\n",
        "    train_losses.append(train_loss)\n",
        "    val_losses.append(val_loss)\n",
        "    train_accs.append(train_metrics['accuracy'])\n",
        "    val_accs.append(val_metrics['accuracy'])\n",
        "\n",
        "    print(f\"Train Loss: {train_loss:.4f}, Train Acc: {train_metrics['accuracy']:.4f}\")\n",
        "    print(f\"Val Loss: {val_loss:.4f}, Val Acc: {val_metrics['accuracy']:.4f}\")\n",
        "\n",
        "    # Save the best model in memory\n",
        "    if val_loss < best_val_loss:\n",
        "        best_val_loss = val_loss\n",
        "        best_model_state = model.state_dict().copy()\n",
        "        print(\"Best model saved in memory!\")\n"
      ],
      "metadata": {
        "colab": {
          "base_uri": "https://localhost:8080/"
        },
        "id": "uBC8t0-tDbkD",
        "outputId": "50ebaec0-4d06-409d-e871-f9010a9223b5"
      },
      "execution_count": 30,
      "outputs": [
        {
          "output_type": "stream",
          "name": "stdout",
          "text": [
            "\n",
            "Epoch 1/10\n"
          ]
        },
        {
          "output_type": "stream",
          "name": "stderr",
          "text": [
            "Training: 100%|██████████| 251/251 [00:03<00:00, 68.15it/s] \n",
            "Evaluating: 100%|██████████| 84/84 [00:00<00:00, 239.61it/s]\n"
          ]
        },
        {
          "output_type": "stream",
          "name": "stdout",
          "text": [
            "Train Loss: 0.4976, Train Acc: 0.7459\n",
            "Val Loss: 0.4112, Val Acc: 0.8139\n",
            "Best model saved in memory!\n",
            "\n",
            "Epoch 2/10\n"
          ]
        },
        {
          "output_type": "stream",
          "name": "stderr",
          "text": [
            "Training: 100%|██████████| 251/251 [00:02<00:00, 117.00it/s]\n",
            "Evaluating: 100%|██████████| 84/84 [00:00<00:00, 243.30it/s]\n"
          ]
        },
        {
          "output_type": "stream",
          "name": "stdout",
          "text": [
            "Train Loss: 0.3458, Train Acc: 0.8500\n",
            "Val Loss: 0.3644, Val Acc: 0.8399\n",
            "Best model saved in memory!\n",
            "\n",
            "Epoch 3/10\n"
          ]
        },
        {
          "output_type": "stream",
          "name": "stderr",
          "text": [
            "Training: 100%|██████████| 251/251 [00:02<00:00, 112.63it/s]\n",
            "Evaluating: 100%|██████████| 84/84 [00:00<00:00, 206.02it/s]\n"
          ]
        },
        {
          "output_type": "stream",
          "name": "stdout",
          "text": [
            "Train Loss: 0.2542, Train Acc: 0.8959\n",
            "Val Loss: 0.3616, Val Acc: 0.8431\n",
            "Best model saved in memory!\n",
            "\n",
            "Epoch 4/10\n"
          ]
        },
        {
          "output_type": "stream",
          "name": "stderr",
          "text": [
            "Training: 100%|██████████| 251/251 [00:02<00:00, 111.43it/s]\n",
            "Evaluating: 100%|██████████| 84/84 [00:00<00:00, 242.30it/s]\n"
          ]
        },
        {
          "output_type": "stream",
          "name": "stdout",
          "text": [
            "Train Loss: 0.1752, Train Acc: 0.9327\n",
            "Val Loss: 0.4212, Val Acc: 0.8534\n",
            "\n",
            "Epoch 5/10\n"
          ]
        },
        {
          "output_type": "stream",
          "name": "stderr",
          "text": [
            "Training: 100%|██████████| 251/251 [00:02<00:00, 115.57it/s]\n",
            "Evaluating: 100%|██████████| 84/84 [00:00<00:00, 241.09it/s]\n"
          ]
        },
        {
          "output_type": "stream",
          "name": "stdout",
          "text": [
            "Train Loss: 0.1138, Train Acc: 0.9571\n",
            "Val Loss: 0.4766, Val Acc: 0.8512\n",
            "\n",
            "Epoch 6/10\n"
          ]
        },
        {
          "output_type": "stream",
          "name": "stderr",
          "text": [
            "Training: 100%|██████████| 251/251 [00:02<00:00, 115.29it/s]\n",
            "Evaluating: 100%|██████████| 84/84 [00:00<00:00, 247.65it/s]\n"
          ]
        },
        {
          "output_type": "stream",
          "name": "stdout",
          "text": [
            "Train Loss: 0.0717, Train Acc: 0.9748\n",
            "Val Loss: 0.5338, Val Acc: 0.8545\n",
            "\n",
            "Epoch 7/10\n"
          ]
        },
        {
          "output_type": "stream",
          "name": "stderr",
          "text": [
            "Training: 100%|██████████| 251/251 [00:02<00:00, 115.79it/s]\n",
            "Evaluating: 100%|██████████| 84/84 [00:00<00:00, 240.85it/s]\n"
          ]
        },
        {
          "output_type": "stream",
          "name": "stdout",
          "text": [
            "Train Loss: 0.0538, Train Acc: 0.9823\n",
            "Val Loss: 0.6475, Val Acc: 0.8529\n",
            "\n",
            "Epoch 8/10\n"
          ]
        },
        {
          "output_type": "stream",
          "name": "stderr",
          "text": [
            "Training: 100%|██████████| 251/251 [00:02<00:00, 106.28it/s]\n",
            "Evaluating: 100%|██████████| 84/84 [00:00<00:00, 215.86it/s]\n"
          ]
        },
        {
          "output_type": "stream",
          "name": "stdout",
          "text": [
            "Train Loss: 0.0364, Train Acc: 0.9873\n",
            "Val Loss: 0.6392, Val Acc: 0.8452\n",
            "\n",
            "Epoch 9/10\n"
          ]
        },
        {
          "output_type": "stream",
          "name": "stderr",
          "text": [
            "Training: 100%|██████████| 251/251 [00:02<00:00, 114.80it/s]\n",
            "Evaluating: 100%|██████████| 84/84 [00:00<00:00, 243.90it/s]\n"
          ]
        },
        {
          "output_type": "stream",
          "name": "stdout",
          "text": [
            "Train Loss: 0.0287, Train Acc: 0.9910\n",
            "Val Loss: 0.8105, Val Acc: 0.8497\n",
            "\n",
            "Epoch 10/10\n"
          ]
        },
        {
          "output_type": "stream",
          "name": "stderr",
          "text": [
            "Training: 100%|██████████| 251/251 [00:02<00:00, 113.80it/s]\n",
            "Evaluating: 100%|██████████| 84/84 [00:00<00:00, 241.37it/s]"
          ]
        },
        {
          "output_type": "stream",
          "name": "stdout",
          "text": [
            "Train Loss: 0.0225, Train Acc: 0.9926\n",
            "Val Loss: 0.7221, Val Acc: 0.8514\n"
          ]
        },
        {
          "output_type": "stream",
          "name": "stderr",
          "text": [
            "\n"
          ]
        }
      ]
    },
    {
      "cell_type": "code",
      "source": [
        "# Load the best model\n",
        "model.load_state_dict(best_model_state)"
      ],
      "metadata": {
        "colab": {
          "base_uri": "https://localhost:8080/"
        },
        "id": "t86iSdRHDd8g",
        "outputId": "65e0154c-95b4-4217-bbc6-3ca9d1e81544"
      },
      "execution_count": 31,
      "outputs": [
        {
          "output_type": "execute_result",
          "data": {
            "text/plain": [
              "<All keys matched successfully>"
            ]
          },
          "metadata": {},
          "execution_count": 31
        }
      ]
    },
    {
      "cell_type": "code",
      "source": [
        "# Evaluate on test set\n",
        "test_loss, test_metrics, y_test_true, y_test_prob, y_test_pred = evaluate(model, test_loader, criterion)\n",
        "print(\"\\nTest Performance:\")\n",
        "for metric, value in test_metrics.items():\n",
        "    print(f\"{metric}: {value:.4f}\")"
      ],
      "metadata": {
        "colab": {
          "base_uri": "https://localhost:8080/"
        },
        "id": "pCfmH6HcDuGa",
        "outputId": "6a3999f6-8528-40ec-f367-f2a01c0f8400"
      },
      "execution_count": 32,
      "outputs": [
        {
          "output_type": "stream",
          "name": "stderr",
          "text": [
            "Evaluating: 100%|██████████| 84/84 [00:00<00:00, 148.28it/s]\n"
          ]
        },
        {
          "output_type": "stream",
          "name": "stdout",
          "text": [
            "\n",
            "Test Performance:\n",
            "accuracy: 0.8385\n",
            "precision: 0.8169\n",
            "recall: 0.8145\n",
            "f1_score: 0.8157\n",
            "auc: 0.9133\n"
          ]
        }
      ]
    },
    {
      "cell_type": "code",
      "source": [
        "# Plot training and validation loss\n",
        "plt.figure(figsize=(12, 5))\n",
        "\n",
        "plt.subplot(1, 2, 1)\n",
        "plt.plot(range(1, n_epochs+1), train_losses, 'b-', label='Training Loss')\n",
        "plt.plot(range(1, n_epochs+1), val_losses, 'r-', label='Validation Loss')\n",
        "plt.title('Training and Validation Loss')\n",
        "plt.xlabel('Epochs')\n",
        "plt.ylabel('Loss')\n",
        "plt.legend()\n",
        "\n",
        "plt.subplot(1, 2, 2)\n",
        "plt.plot(range(1, n_epochs+1), train_accs, 'b-', label='Training Accuracy')\n",
        "plt.plot(range(1, n_epochs+1), val_accs, 'r-', label='Validation Accuracy')\n",
        "plt.title('Training and Validation Accuracy')\n",
        "plt.xlabel('Epochs')\n",
        "plt.ylabel('Accuracy')\n",
        "plt.legend()\n",
        "\n",
        "plt.tight_layout()\n",
        "plt.show()\n"
      ],
      "metadata": {
        "colab": {
          "base_uri": "https://localhost:8080/",
          "height": 507
        },
        "id": "q_--GLZNDwAB",
        "outputId": "5881429b-6aaf-4080-be6a-b2469a2d33e0"
      },
      "execution_count": 33,
      "outputs": [
        {
          "output_type": "display_data",
          "data": {
            "text/plain": [
              "<Figure size 1200x500 with 2 Axes>"
            ],
            "image/png": "[encoded data removed]"
          },
          "metadata": {}
        }
      ]
    },
    {
      "cell_type": "code",
      "source": [
        "# Plot ROC curve\n",
        "fpr, tpr, _ = roc_curve(y_test_true, y_test_prob)\n",
        "plt.figure(figsize=(8, 6))\n",
        "plt.plot(fpr, tpr, label=f'ROC Curve (AUC = {test_metrics[\"auc\"]:.4f})')\n",
        "plt.plot([0, 1], [0, 1], 'k--')\n",
        "plt.xlabel('False Positive Rate')\n",
        "plt.ylabel('True Positive Rate')\n",
        "plt.title('ROC Curve')\n",
        "plt.legend()\n",
        "plt.show()\n"
      ],
      "metadata": {
        "colab": {
          "base_uri": "https://localhost:8080/",
          "height": 564
        },
        "id": "UwIGAJCcDyng",
        "outputId": "911e1f19-fafc-4aa7-bd77-ab501ec3564a"
      },
      "execution_count": 34,
      "outputs": [
        {
          "output_type": "display_data",
          "data": {
            "text/plain": [
              "<Figure size 800x600 with 1 Axes>"
            ],
            "image/png": "[encoded data removed]"
          },
          "metadata": {}
        }
      ]
    },
    {
      "cell_type": "code",
      "source": [
        "# Plot confusion matrix\n",
        "cm = confusion_matrix(y_test_true, y_test_pred)\n",
        "plt.figure(figsize=(8, 6))\n",
        "sns.heatmap(cm, annot=True, fmt='d', cmap='Blues')\n",
        "plt.xlabel('Predicted Labels')\n",
        "plt.ylabel('True Labels')\n",
        "plt.title('Confusion Matrix')\n",
        "plt.show()"
      ],
      "metadata": {
        "colab": {
          "base_uri": "https://localhost:8080/",
          "height": 564
        },
        "id": "EnQSYLY8D0m1",
        "outputId": "1de0e623-462d-4090-afb6-3989b0d59bc0"
      },
      "execution_count": 35,
      "outputs": [
        {
          "output_type": "display_data",
          "data": {
            "text/plain": [
              "<Figure size 800x600 with 2 Axes>"
            ],
            "image/png": "[encoded data removed]"
          },
          "metadata": {}
        }
      ]
    },
    {
      "cell_type": "code",
      "source": [
        "# Additional analysis: visualize attention to words (simplified)\n",
        "def get_word_importance(model, text_indices):\n",
        "    # This is a simplified approach - in a real implementation,\n",
        "    # you would use techniques like gradient-based attribution or attention mechanisms\n",
        "    model.eval()\n",
        "    text_tensor = torch.tensor([text_indices], dtype=torch.long).to(device)\n",
        "\n",
        "    with torch.no_grad():\n",
        "        # Get embeddings\n",
        "        embedded = model.embedding(text_tensor).squeeze(0)\n",
        "        # Take the L2 norm of each word embedding as a simple measure of importance\n",
        "        importance = torch.norm(embedded, dim=1).cpu().numpy()\n",
        "\n",
        "    return importance\n"
      ],
      "metadata": {
        "id": "_kdMzgA3D2TY"
      },
      "execution_count": 36,
      "outputs": []
    },
    {
      "cell_type": "code",
      "source": [
        "# Get a sample from test set\n",
        "sample_idx = 0\n",
        "sample_text_indices = X_test[sample_idx]\n",
        "sample_label = y_test[sample_idx]\n",
        "sample_importance = get_word_importance(model, sample_text_indices)\n"
      ],
      "metadata": {
        "id": "kVIMrwpTD4jy"
      },
      "execution_count": 37,
      "outputs": []
    },
    {
      "cell_type": "code",
      "source": [
        "# Convert indices back to words for visualization\n",
        "sample_words = [vocab[idx] if idx < len(vocab) else '<UNK>' for idx in sample_text_indices if idx != 0]\n",
        "sample_importance = sample_importance[:len(sample_words)]\n"
      ],
      "metadata": {
        "id": "EG3czbDnD6fx"
      },
      "execution_count": 38,
      "outputs": []
    },
    {
      "cell_type": "code",
      "source": [
        "# Plot word importance\n",
        "plt.figure(figsize=(12, 6))\n",
        "plt.bar(range(len(sample_words)), sample_importance)\n",
        "plt.xticks(range(len(sample_words)), sample_words, rotation=90)\n",
        "plt.xlabel('Words')\n",
        "plt.ylabel('Importance Score')\n",
        "plt.title(f'Word Importance for {\"Sarcastic\" if sample_label == 1 else \"Non-Sarcastic\"} Text')\n",
        "plt.tight_layout()\n",
        "plt.show()\n",
        "\n",
        "print(\"\\nModel Architecture:\")\n",
        "print(model)\n"
      ],
      "metadata": {
        "colab": {
          "base_uri": "https://localhost:8080/",
          "height": 746
        },
        "id": "7NlHSq7ND8Uz",
        "outputId": "5abd88a3-8284-4fac-ab17-dd94068ba24e"
      },
      "execution_count": 39,
      "outputs": [
        {
          "output_type": "display_data",
          "data": {
            "text/plain": [
              "<Figure size 1200x600 with 1 Axes>"
            ],
            "image/png": "[encoded data removed]"
          },
          "metadata": {}
        },
        {
          "output_type": "stream",
          "name": "stdout",
          "text": [
            "\n",
            "Model Architecture:\n",
            "SarcasmRNN(\n",
            "  (embedding): Embedding(10000, 100, padding_idx=0)\n",
            "  (rnn): LSTM(100, 128, num_layers=2, batch_first=True, dropout=0.5, bidirectional=True)\n",
            "  (fc): Linear(in_features=256, out_features=1, bias=True)\n",
            "  (dropout): Dropout(p=0.5, inplace=False)\n",
            ")\n"
          ]
        }
      ]
    },
    {
      "cell_type": "code",
      "source": [
        "# Output results directly as DataFrame instead of saving to CSV\n",
        "results = {\n",
        "    'Metric': list(test_metrics.keys()),\n",
        "    'Value': list(test_metrics.values())\n",
        "}\n",
        "results_df = pd.DataFrame(results)\n",
        "print(\"\\nFinal Evaluation Results:\")\n",
        "print(results_df)\n"
      ],
      "metadata": {
        "colab": {
          "base_uri": "https://localhost:8080/"
        },
        "id": "_W5Cm9OYD-mC",
        "outputId": "9f452cce-74a0-4638-d0ba-4d7654e5bf1c"
      },
      "execution_count": 40,
      "outputs": [
        {
          "output_type": "stream",
          "name": "stdout",
          "text": [
            "\n",
            "Final Evaluation Results:\n",
            "      Metric     Value\n",
            "0   accuracy  0.838450\n",
            "1  precision  0.816938\n",
            "2     recall  0.814499\n",
            "3   f1_score  0.815716\n",
            "4        auc  0.913349\n"
          ]
        }
      ]
    },
    {
      "cell_type": "code",
      "source": [],
      "metadata": {
        "id": "O-uRb7OxEBEM"
      },
      "execution_count": null,
      "outputs": []
    }
  ]
}