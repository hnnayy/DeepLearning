{
  "nbformat": 4,
  "nbformat_minor": 0,
  "metadata": {
    "colab": {
      "provenance": [],
      "gpuType": "T4",
      "authorship_tag": "ABX9TyMfjI6MkM+GYewDSHm897XL",
      "include_colab_link": true
    },
    "kernelspec": {
      "name": "python3",
      "display_name": "Python 3"
    },
    "language_info": {
      "name": "python"
    },
    "accelerator": "GPU"
  },
  "cells": [
    {
      "cell_type": "markdown",
      "metadata": {
        "id": "view-in-github",
        "colab_type": "text"
      },
      "source": [
        "<a href=\"https://colab.research.google.com/github/hnnayy/DeepLearning/blob/main/week6/GRU-PyTorc.ipynb\" target=\"_parent\"><img src=\"https://colab.research.google.com/assets/colab-badge.svg\" alt=\"Open In Colab\"/></a>"
      ]
    },
    {
      "cell_type": "code",
      "execution_count": 1,
      "metadata": {
        "id": "cU7DHDEzcNwv"
      },
      "outputs": [],
      "source": [
        "import pandas as pd\n",
        "import numpy as np\n",
        "import json\n",
        "import requests\n",
        "import matplotlib.pyplot as plt\n",
        "import seaborn as sns\n",
        "from sklearn.model_selection import train_test_split\n",
        "from sklearn.preprocessing import LabelEncoder\n",
        "from sklearn.metrics import accuracy_score, precision_score, recall_score, f1_score, roc_curve, auc, confusion_matrix\n",
        "\n",
        "import torch\n",
        "import torch.nn as nn\n",
        "import torch.optim as optim\n",
        "from torch.utils.data import Dataset, DataLoader\n",
        "from torch.nn.utils.rnn import pad_sequence\n",
        "\n",
        "import nltk\n",
        "from nltk.tokenize import word_tokenize\n",
        "from nltk.corpus import stopwords\n",
        "import re\n",
        "import string\n",
        "from collections import Counter"
      ]
    },
    {
      "cell_type": "code",
      "source": [
        "# Download NLTK resources\n",
        "nltk.download('punkt')\n",
        "nltk.download('stopwords')\n",
        "nltk.download('punkt_tab')"
      ],
      "metadata": {
        "colab": {
          "base_uri": "https://localhost:8080/"
        },
        "id": "8ct4Kd62ccjA",
        "outputId": "633a48f1-b442-492d-9c55-ce0c1c4347c0"
      },
      "execution_count": 10,
      "outputs": [
        {
          "output_type": "stream",
          "name": "stderr",
          "text": [
            "[nltk_data] Downloading package punkt to /root/nltk_data...\n",
            "[nltk_data]   Package punkt is already up-to-date!\n",
            "[nltk_data] Downloading package stopwords to /root/nltk_data...\n",
            "[nltk_data]   Package stopwords is already up-to-date!\n",
            "[nltk_data] Downloading package punkt_tab to /root/nltk_data...\n",
            "[nltk_data]   Unzipping tokenizers/punkt_tab.zip.\n"
          ]
        },
        {
          "output_type": "execute_result",
          "data": {
            "text/plain": [
              "True"
            ]
          },
          "metadata": {},
          "execution_count": 10
        }
      ]
    },
    {
      "cell_type": "code",
      "source": [
        "# Check if GPU is available\n",
        "device = torch.device('cuda' if torch.cuda.is_available() else 'cpu')\n",
        "print(f\"Using device: {device}\")\n"
      ],
      "metadata": {
        "colab": {
          "base_uri": "https://localhost:8080/"
        },
        "id": "ulghjfescupH",
        "outputId": "bc7a197f-7bf2-4334-b828-212ba92a40aa"
      },
      "execution_count": 11,
      "outputs": [
        {
          "output_type": "stream",
          "name": "stdout",
          "text": [
            "Using device: cuda\n"
          ]
        }
      ]
    },
    {
      "cell_type": "code",
      "source": [
        "# Load data\n",
        "url = 'https://raw.githubusercontent.com/farrelrassya/teachingMLDL/main/02.%20Deep%20Learning/06.%20Week%206/Datasets/DeteksiSarkasme.json'\n",
        "response = requests.get(url)\n",
        "\n",
        "if response.status_code == 200:\n",
        "    try:\n",
        "        # Try to read as newline-delimited JSON\n",
        "        df = pd.read_json(url, lines=True)\n",
        "    except ValueError:\n",
        "        # If that fails, try to read as a list of dictionaries\n",
        "        data = json.loads(response.text)\n",
        "        df = pd.DataFrame(data)\n",
        "else:\n",
        "    print(\"Failed to download data, check URL or internet connection.\")\n",
        "\n",
        "print(\"Data shape:\", df.shape)\n",
        "print(\"\\nSample data:\")\n",
        "print(df.head())"
      ],
      "metadata": {
        "colab": {
          "base_uri": "https://localhost:8080/"
        },
        "id": "2tZHKgGUc3xx",
        "outputId": "2a7669c8-4e89-4d95-87e2-b1b3cdf0918b"
      },
      "execution_count": 12,
      "outputs": [
        {
          "output_type": "stream",
          "name": "stdout",
          "text": [
            "Data shape: (26709, 3)\n",
            "\n",
            "Sample data:\n",
            "                                        article_link  \\\n",
            "0  https://www.huffingtonpost.com/entry/versace-b...   \n",
            "1  https://www.huffingtonpost.com/entry/roseanne-...   \n",
            "2  https://local.theonion.com/mom-starting-to-fea...   \n",
            "3  https://politics.theonion.com/boehner-just-wan...   \n",
            "4  https://www.huffingtonpost.com/entry/jk-rowlin...   \n",
            "\n",
            "                                            headline  is_sarcastic  \n",
            "0  former versace store clerk sues over secret 'b...             0  \n",
            "1  the 'roseanne' revival catches up to our thorn...             0  \n",
            "2  mom starting to fear son's web series closest ...             1  \n",
            "3  boehner just wants wife to listen, not come up...             1  \n",
            "4  j.k. rowling wishes snape happy birthday in th...             0  \n"
          ]
        }
      ]
    },
    {
      "cell_type": "code",
      "source": [
        "# Data preprocessing\n",
        "# Making sure we have the right columns\n",
        "if 'headline' in df.columns and 'is_sarcastic' in df.columns:\n",
        "    # Use only required columns\n",
        "    df = df[['headline', 'is_sarcastic']]\n",
        "    # Rename columns for clarity\n",
        "    df.columns = ['text', 'label']\n",
        "else:\n",
        "    print(\"Column names might be different, please check the dataset structure\")\n",
        ""
      ],
      "metadata": {
        "id": "-kfW1Mavc5YU"
      },
      "execution_count": 13,
      "outputs": []
    },
    {
      "cell_type": "code",
      "source": [
        "# Check for missing values\n",
        "print(\"\\nMissing values:\")\n",
        "print(df.isnull().sum())"
      ],
      "metadata": {
        "colab": {
          "base_uri": "https://localhost:8080/"
        },
        "id": "YTeqiC40c_2m",
        "outputId": "71207f8c-c0f4-4762-c8e0-b3a98479f88c"
      },
      "execution_count": 14,
      "outputs": [
        {
          "output_type": "stream",
          "name": "stdout",
          "text": [
            "\n",
            "Missing values:\n",
            "text     0\n",
            "label    0\n",
            "dtype: int64\n"
          ]
        }
      ]
    },
    {
      "cell_type": "code",
      "source": [
        "# Check class distribution\n",
        "print(\"\\nClass distribution:\")\n",
        "print(df['label'].value_counts())\n"
      ],
      "metadata": {
        "colab": {
          "base_uri": "https://localhost:8080/"
        },
        "id": "Ln2ePaELdBko",
        "outputId": "855146b9-f2fe-43e5-e6c9-8fb56956637e"
      },
      "execution_count": 15,
      "outputs": [
        {
          "output_type": "stream",
          "name": "stdout",
          "text": [
            "\n",
            "Class distribution:\n",
            "label\n",
            "0    14985\n",
            "1    11724\n",
            "Name: count, dtype: int64\n"
          ]
        }
      ]
    },
    {
      "cell_type": "code",
      "source": [
        "# Text cleaning function\n",
        "def clean_text(text):\n",
        "    # Convert to lowercase\n",
        "    text = text.lower()\n",
        "    # Remove punctuation\n",
        "    text = text.translate(str.maketrans('', '', string.punctuation))\n",
        "    # Remove numbers\n",
        "    text = re.sub(r'\\d+', '', text)\n",
        "    # Tokenize\n",
        "    tokens = word_tokenize(text)\n",
        "    # Remove stopwords\n",
        "    stop_words = set(stopwords.words('english'))\n",
        "    tokens = [word for word in tokens if word not in stop_words]\n",
        "    # Join tokens back into a string\n",
        "    return ' '.join(tokens)"
      ],
      "metadata": {
        "id": "gAyvD11SdFB-"
      },
      "execution_count": 16,
      "outputs": []
    },
    {
      "cell_type": "code",
      "source": [
        "# Apply text cleaning\n",
        "df['cleaned_text'] = df['text'].apply(clean_text)\n"
      ],
      "metadata": {
        "id": "bjJuZ7e9dHR5"
      },
      "execution_count": 17,
      "outputs": []
    },
    {
      "cell_type": "code",
      "source": [
        "# Build vocabulary\n",
        "def build_vocab(texts, max_vocab_size=10000):\n",
        "    word_counter = Counter()\n",
        "    for text in texts:\n",
        "        for word in text.split():\n",
        "            word_counter[word] += 1\n",
        "\n",
        "    # Add special tokens\n",
        "    vocab = {'<PAD>': 0, '<UNK>': 1}\n",
        "\n",
        "    # Add most common words\n",
        "    for word, _ in word_counter.most_common(max_vocab_size - len(vocab)):\n",
        "        vocab[word] = len(vocab)\n",
        "\n",
        "    return vocab"
      ],
      "metadata": {
        "id": "EnRbT3PCdJZv"
      },
      "execution_count": 18,
      "outputs": []
    },
    {
      "cell_type": "code",
      "source": [
        "# Create vocabulary\n",
        "vocab = build_vocab(df['cleaned_text'])\n",
        "print(f\"\\nVocabulary size: {len(vocab)}\")\n"
      ],
      "metadata": {
        "colab": {
          "base_uri": "https://localhost:8080/"
        },
        "id": "iYb0q-bldisC",
        "outputId": "64c54baf-e527-4822-8834-81cf7dcbb569"
      },
      "execution_count": 19,
      "outputs": [
        {
          "output_type": "stream",
          "name": "stdout",
          "text": [
            "\n",
            "Vocabulary size: 10000\n"
          ]
        }
      ]
    },
    {
      "cell_type": "code",
      "source": [
        "# Convert text to index sequence\n",
        "def text_to_sequence(text, vocab):\n",
        "    return [vocab.get(word, vocab['<UNK>']) for word in text.split()]\n",
        "\n",
        "df['sequence'] = df['cleaned_text'].apply(lambda x: text_to_sequence(x, vocab))\n"
      ],
      "metadata": {
        "id": "oPMpkI7adk7S"
      },
      "execution_count": 20,
      "outputs": []
    },
    {
      "cell_type": "code",
      "source": [
        "# Find maximum sequence length and statistics\n",
        "seq_lengths = [len(seq) for seq in df['sequence']]\n",
        "max_seq_len = max(seq_lengths)\n",
        "avg_seq_len = sum(seq_lengths) / len(seq_lengths)\n",
        "\n",
        "print(f\"\\nMaximum sequence length: {max_seq_len}\")\n",
        "print(f\"Average sequence length: {avg_seq_len}\")\n"
      ],
      "metadata": {
        "colab": {
          "base_uri": "https://localhost:8080/"
        },
        "id": "q56sHOzIdmsZ",
        "outputId": "0072bb1a-1a3b-4e39-a2c1-70afe4f1f0fd"
      },
      "execution_count": 21,
      "outputs": [
        {
          "output_type": "stream",
          "name": "stdout",
          "text": [
            "\n",
            "Maximum sequence length: 26\n",
            "Average sequence length: 6.9848740125051485\n"
          ]
        }
      ]
    },
    {
      "cell_type": "code",
      "source": [
        "# We'll use a reasonable max length for padding\n",
        "max_len = min(int(avg_seq_len * 1.5), max_seq_len)\n",
        "print(f\"Using max sequence length for padding: {max_len}\")\n"
      ],
      "metadata": {
        "colab": {
          "base_uri": "https://localhost:8080/"
        },
        "id": "PUfFwYELdodO",
        "outputId": "027747dc-b294-4361-af7d-cbc3b6378663"
      },
      "execution_count": 22,
      "outputs": [
        {
          "output_type": "stream",
          "name": "stdout",
          "text": [
            "Using max sequence length for padding: 10\n"
          ]
        }
      ]
    },
    {
      "cell_type": "code",
      "source": [
        "# Create PyTorch dataset\n",
        "class SarcasmDataset(Dataset):\n",
        "    def __init__(self, sequences, labels, max_len):\n",
        "        self.sequences = sequences\n",
        "        self.labels = labels\n",
        "        self.max_len = max_len\n",
        "\n",
        "    def __len__(self):\n",
        "        return len(self.labels)\n",
        "\n",
        "    def __getitem__(self, idx):\n",
        "        seq = self.sequences[idx]\n",
        "        # Truncate or pad sequence\n",
        "        if len(seq) > self.max_len:\n",
        "            seq = seq[:self.max_len]\n",
        "        else:\n",
        "            seq = seq + [0] * (self.max_len - len(seq))\n",
        "\n",
        "        return torch.tensor(seq, dtype=torch.long), torch.tensor(self.labels[idx], dtype=torch.float)\n"
      ],
      "metadata": {
        "id": "yMHR25r6drQh"
      },
      "execution_count": 23,
      "outputs": []
    },
    {
      "cell_type": "code",
      "source": [
        "# Train-test split\n",
        "X_train, X_test, y_train, y_test = train_test_split(\n",
        "    df['sequence'].tolist(),\n",
        "    df['label'].tolist(),\n",
        "    test_size=0.2,\n",
        "    random_state=42,\n",
        "    stratify=df['label']\n",
        ")"
      ],
      "metadata": {
        "id": "pIsBGLHOdtlR"
      },
      "execution_count": 24,
      "outputs": []
    },
    {
      "cell_type": "code",
      "source": [
        "# Create datasets\n",
        "train_dataset = SarcasmDataset(X_train, y_train, max_len)\n",
        "test_dataset = SarcasmDataset(X_test, y_test, max_len)\n",
        "\n",
        "# Create dataloaders\n",
        "batch_size = 64\n",
        "train_loader = DataLoader(train_dataset, batch_size=batch_size, shuffle=True)\n",
        "test_loader = DataLoader(test_dataset, batch_size=batch_size)\n"
      ],
      "metadata": {
        "id": "Vk_I3sgYdwCW"
      },
      "execution_count": 25,
      "outputs": []
    },
    {
      "cell_type": "code",
      "source": [
        "# Define GRU model\n",
        "class GRUModel(nn.Module):\n",
        "    def __init__(self, vocab_size, embedding_dim, hidden_dim, output_dim, n_layers, dropout):\n",
        "        super().__init__()\n",
        "\n",
        "        self.embedding = nn.Embedding(vocab_size, embedding_dim, padding_idx=0)\n",
        "        self.gru = nn.GRU(embedding_dim,\n",
        "                           hidden_dim,\n",
        "                           num_layers=n_layers,\n",
        "                           bidirectional=True,\n",
        "                           dropout=dropout if n_layers > 1 else 0,\n",
        "                           batch_first=True)\n",
        "        self.fc = nn.Linear(hidden_dim * 2, output_dim)\n",
        "        self.dropout = nn.Dropout(dropout)\n",
        "\n",
        "    def forward(self, text):\n",
        "        # text shape: [batch size, sequence length]\n",
        "        embedded = self.dropout(self.embedding(text))\n",
        "        # embedded shape: [batch size, sequence length, embedding dim]\n",
        "\n",
        "        output, hidden = self.gru(embedded)\n",
        "        # output shape: [batch size, sequence length, hidden dim * 2]\n",
        "        # hidden shape: [n layers * 2, batch size, hidden dim]\n",
        "\n",
        "        # Concatenate the final forward and backward hidden states\n",
        "        hidden = torch.cat((hidden[-2,:,:], hidden[-1,:,:]), dim=1)\n",
        "        # hidden shape: [batch size, hidden dim * 2]\n",
        "\n",
        "        hidden = self.dropout(hidden)\n",
        "        return self.fc(hidden).squeeze(1)\n"
      ],
      "metadata": {
        "id": "xZ8eJ_Yrdyn8"
      },
      "execution_count": 26,
      "outputs": []
    },
    {
      "cell_type": "code",
      "source": [
        "# Model hyperparameters\n",
        "INPUT_DIM = len(vocab)\n",
        "EMBEDDING_DIM = 300\n",
        "HIDDEN_DIM = 256\n",
        "OUTPUT_DIM = 1\n",
        "N_LAYERS = 2\n",
        "DROPOUT = 0.5\n",
        "\n",
        "# Initialize model\n",
        "model = GRUModel(INPUT_DIM, EMBEDDING_DIM, HIDDEN_DIM, OUTPUT_DIM, N_LAYERS, DROPOUT)\n",
        "model = model.to(device)\n"
      ],
      "metadata": {
        "id": "o0f4e1B6d1DS"
      },
      "execution_count": 27,
      "outputs": []
    },
    {
      "cell_type": "code",
      "source": [
        "# Print model architecture\n",
        "print(\"\\nModel Architecture:\")\n",
        "print(model)\n"
      ],
      "metadata": {
        "colab": {
          "base_uri": "https://localhost:8080/"
        },
        "id": "zR2tLFMhd5NZ",
        "outputId": "5c85f017-b8a0-4c4f-abf5-c1c8d876b27b"
      },
      "execution_count": 28,
      "outputs": [
        {
          "output_type": "stream",
          "name": "stdout",
          "text": [
            "\n",
            "Model Architecture:\n",
            "GRUModel(\n",
            "  (embedding): Embedding(10000, 300, padding_idx=0)\n",
            "  (gru): GRU(300, 256, num_layers=2, batch_first=True, dropout=0.5, bidirectional=True)\n",
            "  (fc): Linear(in_features=512, out_features=1, bias=True)\n",
            "  (dropout): Dropout(p=0.5, inplace=False)\n",
            ")\n"
          ]
        }
      ]
    },
    {
      "cell_type": "code",
      "source": [
        "# Define optimizer and loss function\n",
        "optimizer = optim.Adam(model.parameters(), lr=0.001)\n",
        "criterion = nn.BCEWithLogitsLoss()\n"
      ],
      "metadata": {
        "id": "5mHbUGE-d7Nk"
      },
      "execution_count": 29,
      "outputs": []
    },
    {
      "cell_type": "code",
      "source": [
        "# Training function\n",
        "def train(model, dataloader, optimizer, criterion):\n",
        "    model.train()\n",
        "\n",
        "    epoch_loss = 0\n",
        "    all_preds = []\n",
        "    all_labels = []\n",
        "\n",
        "    for inputs, labels in dataloader:\n",
        "        inputs = inputs.to(device)\n",
        "        labels = labels.to(device)\n",
        "\n",
        "        # Zero gradients\n",
        "        optimizer.zero_grad()\n",
        "\n",
        "        # Forward pass\n",
        "        predictions = model(inputs)\n",
        "\n",
        "        # Calculate loss\n",
        "        loss = criterion(predictions, labels)\n",
        "\n",
        "        # Backward pass\n",
        "        loss.backward()\n",
        "\n",
        "        # Update parameters\n",
        "        optimizer.step()\n",
        "\n",
        "        # Accumulate loss\n",
        "        epoch_loss += loss.item()\n",
        "\n",
        "        # Store predictions and labels for metrics\n",
        "        preds = torch.sigmoid(predictions) >= 0.5\n",
        "        all_preds.extend(preds.cpu().numpy())\n",
        "        all_labels.extend(labels.cpu().numpy())\n",
        "\n",
        "    # Calculate metrics\n",
        "    accuracy = accuracy_score(all_labels, all_preds)\n",
        "    precision = precision_score(all_labels, all_preds, zero_division=0)\n",
        "    recall = recall_score(all_labels, all_preds)\n",
        "    f1 = f1_score(all_labels, all_preds)\n",
        "\n",
        "    return epoch_loss / len(dataloader), accuracy, precision, recall, f1\n"
      ],
      "metadata": {
        "id": "Y52rqzX0d9Ek"
      },
      "execution_count": 30,
      "outputs": []
    },
    {
      "cell_type": "code",
      "source": [
        "# Evaluation function\n",
        "def evaluate(model, dataloader, criterion):\n",
        "    model.eval()\n",
        "\n",
        "    epoch_loss = 0\n",
        "    all_preds = []\n",
        "    all_probs = []\n",
        "    all_labels = []\n",
        "\n",
        "    with torch.no_grad():\n",
        "        for inputs, labels in dataloader:\n",
        "            inputs = inputs.to(device)\n",
        "            labels = labels.to(device)\n",
        "\n",
        "            # Forward pass\n",
        "            predictions = model(inputs)\n",
        "\n",
        "            # Calculate loss\n",
        "            loss = criterion(predictions, labels)\n",
        "\n",
        "            # Accumulate loss\n",
        "            epoch_loss += loss.item()\n",
        "\n",
        "            # Store predictions and labels for metrics\n",
        "            probs = torch.sigmoid(predictions)\n",
        "            preds = probs >= 0.5\n",
        "            all_probs.extend(probs.cpu().numpy())\n",
        "            all_preds.extend(preds.cpu().numpy())\n",
        "            all_labels.extend(labels.cpu().numpy())\n",
        "\n",
        "    # Calculate metrics\n",
        "    accuracy = accuracy_score(all_labels, all_preds)\n",
        "    precision = precision_score(all_labels, all_preds, zero_division=0)\n",
        "    recall = recall_score(all_labels, all_preds)\n",
        "    f1 = f1_score(all_labels, all_preds)\n",
        "\n",
        "    # Calculate ROC and AUC\n",
        "    fpr, tpr, _ = roc_curve(all_labels, all_probs)\n",
        "    roc_auc = auc(fpr, tpr)\n",
        "\n",
        "    # Calculate confusion matrix\n",
        "    cm = confusion_matrix(all_labels, all_preds)\n",
        "\n",
        "    return epoch_loss / len(dataloader), accuracy, precision, recall, f1, roc_auc, fpr, tpr, cm\n"
      ],
      "metadata": {
        "id": "NjfKqiYNeBPc"
      },
      "execution_count": 31,
      "outputs": []
    },
    {
      "cell_type": "code",
      "source": [
        "# Training loop\n",
        "n_epochs = 10\n",
        "best_val_acc = 0\n",
        "train_losses = []\n",
        "val_losses = []\n",
        "train_accs = []\n",
        "val_accs = []\n",
        "\n",
        "print(\"\\nStarting training...\")\n",
        "for epoch in range(n_epochs):\n",
        "    # Train model\n",
        "    train_loss, train_acc, train_prec, train_rec, train_f1 = train(model, train_loader, optimizer, criterion)\n",
        "\n",
        "    # Evaluate model\n",
        "    val_loss, val_acc, val_prec, val_rec, val_f1, val_auc, fpr, tpr, cm = evaluate(model, test_loader, criterion)\n",
        "\n",
        "    # Store metrics for plotting\n",
        "    train_losses.append(train_loss)\n",
        "    val_losses.append(val_loss)\n",
        "    train_accs.append(train_acc)\n",
        "    val_accs.append(val_acc)\n",
        "\n",
        "    # Print progress\n",
        "    print(f\"Epoch {epoch+1}/{n_epochs}\")\n",
        "    print(f\"  Train Loss: {train_loss:.4f}, Accuracy: {train_acc:.4f}, Precision: {train_prec:.4f}, Recall: {train_rec:.4f}, F1: {train_f1:.4f}\")\n",
        "    print(f\"  Val Loss: {val_loss:.4f}, Accuracy: {val_acc:.4f}, Precision: {val_prec:.4f}, Recall: {val_rec:.4f}, F1: {val_f1:.4f}, AUC: {val_auc:.4f}\")\n",
        "\n",
        "    # Check if this is the best model\n",
        "    if val_acc > best_val_acc:\n",
        "        best_val_acc = val_acc\n",
        "        torch.save(model.state_dict(), 'best_gru_model.pt')\n",
        "        print(\"  Saved new best model!\")\n",
        "\n",
        "    # Early stopping if both train and test accuracy are above 80%\n",
        "    if train_acc >= 0.8 and val_acc >= 0.8:\n",
        "        print(\"\\nEarly stopping! Both train and test accuracy are above 80%\")\n",
        "        break"
      ],
      "metadata": {
        "colab": {
          "base_uri": "https://localhost:8080/"
        },
        "id": "CC2a4tRueEFY",
        "outputId": "a753da54-e2c4-4384-8932-1fe4f64f9063"
      },
      "execution_count": 32,
      "outputs": [
        {
          "output_type": "stream",
          "name": "stdout",
          "text": [
            "\n",
            "Starting training...\n",
            "Epoch 1/10\n",
            "  Train Loss: 0.6108, Accuracy: 0.6590, Precision: 0.6409, Recall: 0.5072, F1: 0.5663\n",
            "  Val Loss: 0.5308, Accuracy: 0.7310, Precision: 0.7888, Recall: 0.5288, F1: 0.6331, AUC: 0.8105\n",
            "  Saved new best model!\n",
            "Epoch 2/10\n",
            "  Train Loss: 0.5167, Accuracy: 0.7420, Precision: 0.7279, Recall: 0.6582, F1: 0.6913\n",
            "  Val Loss: 0.4733, Accuracy: 0.7714, Precision: 0.7266, Recall: 0.7684, F1: 0.7469, AUC: 0.8522\n",
            "  Saved new best model!\n",
            "Epoch 3/10\n",
            "  Train Loss: 0.4489, Accuracy: 0.7864, Precision: 0.7691, Recall: 0.7336, F1: 0.7509\n",
            "  Val Loss: 0.4576, Accuracy: 0.7853, Precision: 0.7939, Recall: 0.6900, F1: 0.7383, AUC: 0.8726\n",
            "  Saved new best model!\n",
            "Epoch 4/10\n",
            "  Train Loss: 0.4022, Accuracy: 0.8150, Precision: 0.8043, Recall: 0.7647, F1: 0.7840\n",
            "  Val Loss: 0.4380, Accuracy: 0.7948, Precision: 0.7964, Recall: 0.7156, F1: 0.7538, AUC: 0.8801\n",
            "  Saved new best model!\n",
            "Epoch 5/10\n",
            "  Train Loss: 0.3538, Accuracy: 0.8434, Precision: 0.8302, Recall: 0.8085, F1: 0.8192\n",
            "  Val Loss: 0.4747, Accuracy: 0.7997, Precision: 0.8072, Recall: 0.7143, F1: 0.7579, AUC: 0.8854\n",
            "  Saved new best model!\n",
            "Epoch 6/10\n",
            "  Train Loss: 0.3174, Accuracy: 0.8627, Precision: 0.8513, Recall: 0.8326, F1: 0.8418\n",
            "  Val Loss: 0.4708, Accuracy: 0.8068, Precision: 0.8122, Recall: 0.7284, F1: 0.7680, AUC: 0.8907\n",
            "  Saved new best model!\n",
            "\n",
            "Early stopping! Both train and test accuracy are above 80%\n"
          ]
        }
      ]
    },
    {
      "cell_type": "code",
      "source": [
        "# Load best model\n",
        "model.load_state_dict(torch.load('best_gru_model.pt'))\n"
      ],
      "metadata": {
        "colab": {
          "base_uri": "https://localhost:8080/"
        },
        "id": "FP0FbJ9feHn0",
        "outputId": "ccdef65c-ca65-40d3-9b45-1dc4c29b50c8"
      },
      "execution_count": 33,
      "outputs": [
        {
          "output_type": "execute_result",
          "data": {
            "text/plain": [
              "<All keys matched successfully>"
            ]
          },
          "metadata": {},
          "execution_count": 33
        }
      ]
    },
    {
      "cell_type": "code",
      "source": [
        "# Final evaluation\n",
        "final_loss, final_acc, final_prec, final_rec, final_f1, final_auc, fpr, tpr, cm = evaluate(model, test_loader, criterion)\n",
        "\n",
        "print(\"\\nFinal Model Performance:\")\n",
        "print(f\"  Accuracy: {final_acc:.4f}\")\n",
        "print(f\"  Precision: {final_prec:.4f}\")\n",
        "print(f\"  Recall: {final_rec:.4f}\")\n",
        "print(f\"  F1 Score: {final_f1:.4f}\")\n",
        "print(f\"  AUC-ROC: {final_auc:.4f}\")\n"
      ],
      "metadata": {
        "colab": {
          "base_uri": "https://localhost:8080/"
        },
        "id": "gVbWxDV4eQuP",
        "outputId": "784ac4ee-bef3-446d-b9b9-d328ca778be9"
      },
      "execution_count": 34,
      "outputs": [
        {
          "output_type": "stream",
          "name": "stdout",
          "text": [
            "\n",
            "Final Model Performance:\n",
            "  Accuracy: 0.8068\n",
            "  Precision: 0.8122\n",
            "  Recall: 0.7284\n",
            "  F1 Score: 0.7680\n",
            "  AUC-ROC: 0.8907\n"
          ]
        }
      ]
    },
    {
      "cell_type": "code",
      "source": [
        "# Visualize training history\n",
        "plt.figure(figsize=(12, 5))\n"
      ],
      "metadata": {
        "colab": {
          "base_uri": "https://localhost:8080/",
          "height": 52
        },
        "id": "oZsEX8DdeSX2",
        "outputId": "e41bbb12-3380-4a85-c8a8-18f40d436ffc"
      },
      "execution_count": 35,
      "outputs": [
        {
          "output_type": "execute_result",
          "data": {
            "text/plain": [
              "<Figure size 1200x500 with 0 Axes>"
            ]
          },
          "metadata": {},
          "execution_count": 35
        },
        {
          "output_type": "display_data",
          "data": {
            "text/plain": [
              "<Figure size 1200x500 with 0 Axes>"
            ]
          },
          "metadata": {}
        }
      ]
    },
    {
      "cell_type": "code",
      "source": [
        "# Loss plot\n",
        "plt.subplot(1, 2, 1)\n",
        "plt.plot(train_losses, label='Training Loss')\n",
        "plt.plot(val_losses, label='Validation Loss')\n",
        "plt.title('Training and Validation Loss')\n",
        "plt.xlabel('Epochs')\n",
        "plt.ylabel('Loss')\n",
        "plt.legend()"
      ],
      "metadata": {
        "colab": {
          "base_uri": "https://localhost:8080/",
          "height": 489
        },
        "id": "n2kkTqHfeUsy",
        "outputId": "4b87c311-ce2f-4572-ffc3-1892d6f2826d"
      },
      "execution_count": 36,
      "outputs": [
        {
          "output_type": "execute_result",
          "data": {
            "text/plain": [
              "<matplotlib.legend.Legend at 0x7dfeab5bef10>"
            ]
          },
          "metadata": {},
          "execution_count": 36
        },
        {
          "output_type": "display_data",
          "data": {
            "text/plain": [
              "<Figure size 640x480 with 1 Axes>"
            ],
            "image/png": "[encoded data removed]"
          },
          "metadata": {}
        }
      ]
    },
    {
      "cell_type": "code",
      "source": [
        "# Accuracy plot\n",
        "plt.subplot(1, 2, 2)\n",
        "plt.plot(train_accs, label='Training Accuracy')\n",
        "plt.plot(val_accs, label='Validation Accuracy')\n",
        "plt.title('Training and Validation Accuracy')\n",
        "plt.xlabel('Epochs')\n",
        "plt.ylabel('Accuracy')\n",
        "plt.legend()\n",
        "\n",
        "plt.tight_layout()\n",
        "plt.savefig('training_history.png')\n",
        "plt.show()\n"
      ],
      "metadata": {
        "colab": {
          "base_uri": "https://localhost:8080/",
          "height": 487
        },
        "id": "A9qK-d4meXYy",
        "outputId": "864d9233-f57e-4b82-ed1b-31bb3d23fb04"
      },
      "execution_count": 37,
      "outputs": [
        {
          "output_type": "display_data",
          "data": {
            "text/plain": [
              "<Figure size 640x480 with 1 Axes>"
            ],
            "image/png": "[encoded data removed]"
          },
          "metadata": {}
        }
      ]
    },
    {
      "cell_type": "code",
      "source": [
        "# Plot confusion matrix\n",
        "plt.figure(figsize=(8, 6))\n",
        "sns.heatmap(cm, annot=True, fmt='d', cmap='Blues', cbar=False)\n",
        "plt.title('Confusion Matrix')\n",
        "plt.xlabel('Predicted')\n",
        "plt.ylabel('Actual')\n",
        "plt.savefig('confusion_matrix.png')\n",
        "plt.show()"
      ],
      "metadata": {
        "colab": {
          "base_uri": "https://localhost:8080/",
          "height": 534
        },
        "id": "I013ZrPPeZ1Y",
        "outputId": "e08474a7-bd00-4c69-8056-fb3d9457869b"
      },
      "execution_count": 38,
      "outputs": [
        {
          "output_type": "display_data",
          "data": {
            "text/plain": [
              "<Figure size 800x600 with 1 Axes>"
            ],
            "image/png": "[encoded data removed]"
          },
          "metadata": {}
        }
      ]
    },
    {
      "cell_type": "code",
      "source": [
        "# Plot ROC curve\n",
        "plt.figure(figsize=(8, 6))\n",
        "plt.plot(fpr, tpr, color='darkorange', lw=2, label=f'ROC curve (area = {final_auc:.2f})')\n",
        "plt.plot([0, 1], [0, 1], color='navy', lw=2, linestyle='--')\n",
        "plt.xlim([0.0, 1.0])\n",
        "plt.ylim([0.0, 1.05])\n",
        "plt.xlabel('False Positive Rate')\n",
        "plt.ylabel('True Positive Rate')\n",
        "plt.title('Receiver Operating Characteristic (ROC) Curve')\n",
        "plt.legend(loc=\"lower right\")\n",
        "plt.savefig('roc_curve.png')\n",
        "plt.show()\n"
      ],
      "metadata": {
        "colab": {
          "base_uri": "https://localhost:8080/",
          "height": 520
        },
        "id": "osp2DYUReb3d",
        "outputId": "6fe18f75-9501-4aad-82ad-1d5746c2d65c"
      },
      "execution_count": 39,
      "outputs": [
        {
          "output_type": "display_data",
          "data": {
            "text/plain": [
              "<Figure size 800x600 with 1 Axes>"
            ],
            "image/png": "[encoded data removed]"
          },
          "metadata": {}
        }
      ]
    },
    {
      "cell_type": "code",
      "source": [
        "# Test model with sample text\n",
        "def predict_sarcasm(text, model, vocab, max_len):\n",
        "    # Clean text\n",
        "    cleaned_text = clean_text(text)\n",
        "\n",
        "    # Convert to sequence\n",
        "    sequence = text_to_sequence(cleaned_text, vocab)\n",
        "\n",
        "    # Pad sequence\n",
        "    if len(sequence) > max_len:\n",
        "        sequence = sequence[:max_len]\n",
        "    else:\n",
        "        sequence = sequence + [0] * (max_len - len(sequence))\n",
        "\n",
        "    # Convert to tensor\n",
        "    tensor = torch.tensor(sequence, dtype=torch.long).unsqueeze(0).to(device)\n",
        "\n",
        "    # Predict\n",
        "    model.eval()\n",
        "    with torch.no_grad():\n",
        "        prediction = torch.sigmoid(model(tensor)).item()\n",
        "\n",
        "    return prediction"
      ],
      "metadata": {
        "id": "oKjBhX9seefx"
      },
      "execution_count": 40,
      "outputs": []
    },
    {
      "cell_type": "code",
      "source": [
        "# Test with some examples\n",
        "test_examples = [\n",
        "    \"wow, what a great day!\",\n",
        "    \"I just love waiting in line for hours.\",\n",
        "    \"This is the best product ever made!\",\n",
        "    \"I can't believe how amazing it is to wake up at 5am for work.\"\n",
        "]\n",
        "\n",
        "print(\"\\nTesting model with examples:\")\n",
        "for text in test_examples:\n",
        "    prediction = predict_sarcasm(text, model, vocab, max_len)\n",
        "    print(f'Text: \"{text}\"')\n",
        "    print(f'Prediction: {\"Sarcastic\" if prediction >= 0.5 else \"Not Sarcastic\"} (Confidence: {prediction:.4f})\\n')"
      ],
      "metadata": {
        "colab": {
          "base_uri": "https://localhost:8080/"
        },
        "id": "vFDCYs-heg2y",
        "outputId": "062efeca-0ba6-496e-cf82-022cad29bc4b"
      },
      "execution_count": 41,
      "outputs": [
        {
          "output_type": "stream",
          "name": "stdout",
          "text": [
            "\n",
            "Testing model with examples:\n",
            "Text: \"wow, what a great day!\"\n",
            "Prediction: Not Sarcastic (Confidence: 0.0398)\n",
            "\n",
            "Text: \"I just love waiting in line for hours.\"\n",
            "Prediction: Not Sarcastic (Confidence: 0.4095)\n",
            "\n",
            "Text: \"This is the best product ever made!\"\n",
            "Prediction: Not Sarcastic (Confidence: 0.0083)\n",
            "\n",
            "Text: \"I can't believe how amazing it is to wake up at 5am for work.\"\n",
            "Prediction: Not Sarcastic (Confidence: 0.3559)\n",
            "\n"
          ]
        }
      ]
    },
    {
      "cell_type": "code",
      "source": [],
      "metadata": {
        "id": "cBZKaPhZekTY"
      },
      "execution_count": null,
      "outputs": []
    }
  ]
}