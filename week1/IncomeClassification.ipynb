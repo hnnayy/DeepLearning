{
  "cells": [
    {
      "cell_type": "markdown",
      "metadata": {
        "id": "view-in-github",
        "colab_type": "text"
      },
      "source": [
        "<a href=\"https://colab.research.google.com/github/hnnayy/DeepLearning/blob/main/week1/IncomeClassification.ipynb\" target=\"_parent\"><img src=\"https://colab.research.google.com/assets/colab-badge.svg\" alt=\"Open In Colab\"/></a>"
      ]
    },
    {
      "cell_type": "code",
      "execution_count": null,
      "id": "088b1347-04df-4c54-af97-ba0ae8e292ad",
      "metadata": {
        "id": "088b1347-04df-4c54-af97-ba0ae8e292ad"
      },
      "outputs": [],
      "source": [
        "import pandas as pd\n",
        "import numpy as np\n",
        "from sklearn.model_selection import train_test_split\n",
        "from sklearn.preprocessing import StandardScaler, LabelEncoder\n",
        "from sklearn.metrics import accuracy_score, precision_score, recall_score, f1_score, roc_auc_score, roc_curve\n",
        "import matplotlib.pyplot as plt\n",
        "import seaborn as sns\n",
        "import torch\n",
        "import torch.nn as nn\n",
        "import torch.optim as optim\n",
        "from tensorflow import keras\n",
        "from tensorflow.keras import layers\n"
      ]
    },
    {
      "cell_type": "code",
      "execution_count": null,
      "id": "f0a0288e-cbad-4d83-96a9-b0d5de5eb354",
      "metadata": {
        "id": "f0a0288e-cbad-4d83-96a9-b0d5de5eb354",
        "outputId": "9f528858-5d5f-4ad8-aba1-ac65d5a0c9f0"
      },
      "outputs": [
        {
          "data": {
            "text/html": [
              "<div>\n",
              "<style scoped>\n",
              "    .dataframe tbody tr th:only-of-type {\n",
              "        vertical-align: middle;\n",
              "    }\n",
              "\n",
              "    .dataframe tbody tr th {\n",
              "        vertical-align: top;\n",
              "    }\n",
              "\n",
              "    .dataframe thead th {\n",
              "        text-align: right;\n",
              "    }\n",
              "</style>\n",
              "<table border=\"1\" class=\"dataframe\">\n",
              "  <thead>\n",
              "    <tr style=\"text-align: right;\">\n",
              "      <th></th>\n",
              "      <th>age</th>\n",
              "      <th>workclass</th>\n",
              "      <th>fnlwgt</th>\n",
              "      <th>education</th>\n",
              "      <th>education-num</th>\n",
              "      <th>marital-status</th>\n",
              "      <th>occupation</th>\n",
              "      <th>relationship</th>\n",
              "      <th>race</th>\n",
              "      <th>sex</th>\n",
              "      <th>capital-gain</th>\n",
              "      <th>capital-loss</th>\n",
              "      <th>hours-per-week</th>\n",
              "      <th>native-country</th>\n",
              "      <th>income</th>\n",
              "    </tr>\n",
              "  </thead>\n",
              "  <tbody>\n",
              "    <tr>\n",
              "      <th>0</th>\n",
              "      <td>39</td>\n",
              "      <td>State-gov</td>\n",
              "      <td>77516</td>\n",
              "      <td>Bachelors</td>\n",
              "      <td>13</td>\n",
              "      <td>Never-married</td>\n",
              "      <td>Adm-clerical</td>\n",
              "      <td>Not-in-family</td>\n",
              "      <td>White</td>\n",
              "      <td>Male</td>\n",
              "      <td>2174</td>\n",
              "      <td>0</td>\n",
              "      <td>40</td>\n",
              "      <td>United-States</td>\n",
              "      <td>&lt;=50K</td>\n",
              "    </tr>\n",
              "    <tr>\n",
              "      <th>1</th>\n",
              "      <td>50</td>\n",
              "      <td>Self-emp-not-inc</td>\n",
              "      <td>83311</td>\n",
              "      <td>Bachelors</td>\n",
              "      <td>13</td>\n",
              "      <td>Married-civ-spouse</td>\n",
              "      <td>Exec-managerial</td>\n",
              "      <td>Husband</td>\n",
              "      <td>White</td>\n",
              "      <td>Male</td>\n",
              "      <td>0</td>\n",
              "      <td>0</td>\n",
              "      <td>13</td>\n",
              "      <td>United-States</td>\n",
              "      <td>&lt;=50K</td>\n",
              "    </tr>\n",
              "    <tr>\n",
              "      <th>2</th>\n",
              "      <td>38</td>\n",
              "      <td>Private</td>\n",
              "      <td>215646</td>\n",
              "      <td>HS-grad</td>\n",
              "      <td>9</td>\n",
              "      <td>Divorced</td>\n",
              "      <td>Handlers-cleaners</td>\n",
              "      <td>Not-in-family</td>\n",
              "      <td>White</td>\n",
              "      <td>Male</td>\n",
              "      <td>0</td>\n",
              "      <td>0</td>\n",
              "      <td>40</td>\n",
              "      <td>United-States</td>\n",
              "      <td>&lt;=50K</td>\n",
              "    </tr>\n",
              "    <tr>\n",
              "      <th>3</th>\n",
              "      <td>53</td>\n",
              "      <td>Private</td>\n",
              "      <td>234721</td>\n",
              "      <td>11th</td>\n",
              "      <td>7</td>\n",
              "      <td>Married-civ-spouse</td>\n",
              "      <td>Handlers-cleaners</td>\n",
              "      <td>Husband</td>\n",
              "      <td>Black</td>\n",
              "      <td>Male</td>\n",
              "      <td>0</td>\n",
              "      <td>0</td>\n",
              "      <td>40</td>\n",
              "      <td>United-States</td>\n",
              "      <td>&lt;=50K</td>\n",
              "    </tr>\n",
              "    <tr>\n",
              "      <th>4</th>\n",
              "      <td>28</td>\n",
              "      <td>Private</td>\n",
              "      <td>338409</td>\n",
              "      <td>Bachelors</td>\n",
              "      <td>13</td>\n",
              "      <td>Married-civ-spouse</td>\n",
              "      <td>Prof-specialty</td>\n",
              "      <td>Wife</td>\n",
              "      <td>Black</td>\n",
              "      <td>Female</td>\n",
              "      <td>0</td>\n",
              "      <td>0</td>\n",
              "      <td>40</td>\n",
              "      <td>Cuba</td>\n",
              "      <td>&lt;=50K</td>\n",
              "    </tr>\n",
              "    <tr>\n",
              "      <th>...</th>\n",
              "      <td>...</td>\n",
              "      <td>...</td>\n",
              "      <td>...</td>\n",
              "      <td>...</td>\n",
              "      <td>...</td>\n",
              "      <td>...</td>\n",
              "      <td>...</td>\n",
              "      <td>...</td>\n",
              "      <td>...</td>\n",
              "      <td>...</td>\n",
              "      <td>...</td>\n",
              "      <td>...</td>\n",
              "      <td>...</td>\n",
              "      <td>...</td>\n",
              "      <td>...</td>\n",
              "    </tr>\n",
              "    <tr>\n",
              "      <th>48837</th>\n",
              "      <td>39</td>\n",
              "      <td>Private</td>\n",
              "      <td>215419</td>\n",
              "      <td>Bachelors</td>\n",
              "      <td>13</td>\n",
              "      <td>Divorced</td>\n",
              "      <td>Prof-specialty</td>\n",
              "      <td>Not-in-family</td>\n",
              "      <td>White</td>\n",
              "      <td>Female</td>\n",
              "      <td>0</td>\n",
              "      <td>0</td>\n",
              "      <td>36</td>\n",
              "      <td>United-States</td>\n",
              "      <td>&lt;=50K.</td>\n",
              "    </tr>\n",
              "    <tr>\n",
              "      <th>48838</th>\n",
              "      <td>64</td>\n",
              "      <td>NaN</td>\n",
              "      <td>321403</td>\n",
              "      <td>HS-grad</td>\n",
              "      <td>9</td>\n",
              "      <td>Widowed</td>\n",
              "      <td>NaN</td>\n",
              "      <td>Other-relative</td>\n",
              "      <td>Black</td>\n",
              "      <td>Male</td>\n",
              "      <td>0</td>\n",
              "      <td>0</td>\n",
              "      <td>40</td>\n",
              "      <td>United-States</td>\n",
              "      <td>&lt;=50K.</td>\n",
              "    </tr>\n",
              "    <tr>\n",
              "      <th>48839</th>\n",
              "      <td>38</td>\n",
              "      <td>Private</td>\n",
              "      <td>374983</td>\n",
              "      <td>Bachelors</td>\n",
              "      <td>13</td>\n",
              "      <td>Married-civ-spouse</td>\n",
              "      <td>Prof-specialty</td>\n",
              "      <td>Husband</td>\n",
              "      <td>White</td>\n",
              "      <td>Male</td>\n",
              "      <td>0</td>\n",
              "      <td>0</td>\n",
              "      <td>50</td>\n",
              "      <td>United-States</td>\n",
              "      <td>&lt;=50K.</td>\n",
              "    </tr>\n",
              "    <tr>\n",
              "      <th>48840</th>\n",
              "      <td>44</td>\n",
              "      <td>Private</td>\n",
              "      <td>83891</td>\n",
              "      <td>Bachelors</td>\n",
              "      <td>13</td>\n",
              "      <td>Divorced</td>\n",
              "      <td>Adm-clerical</td>\n",
              "      <td>Own-child</td>\n",
              "      <td>Asian-Pac-Islander</td>\n",
              "      <td>Male</td>\n",
              "      <td>5455</td>\n",
              "      <td>0</td>\n",
              "      <td>40</td>\n",
              "      <td>United-States</td>\n",
              "      <td>&lt;=50K.</td>\n",
              "    </tr>\n",
              "    <tr>\n",
              "      <th>48841</th>\n",
              "      <td>35</td>\n",
              "      <td>Self-emp-inc</td>\n",
              "      <td>182148</td>\n",
              "      <td>Bachelors</td>\n",
              "      <td>13</td>\n",
              "      <td>Married-civ-spouse</td>\n",
              "      <td>Exec-managerial</td>\n",
              "      <td>Husband</td>\n",
              "      <td>White</td>\n",
              "      <td>Male</td>\n",
              "      <td>0</td>\n",
              "      <td>0</td>\n",
              "      <td>60</td>\n",
              "      <td>United-States</td>\n",
              "      <td>&gt;50K.</td>\n",
              "    </tr>\n",
              "  </tbody>\n",
              "</table>\n",
              "<p>48842 rows × 15 columns</p>\n",
              "</div>"
            ],
            "text/plain": [
              "       age         workclass  fnlwgt  education  education-num  \\\n",
              "0       39         State-gov   77516  Bachelors             13   \n",
              "1       50  Self-emp-not-inc   83311  Bachelors             13   \n",
              "2       38           Private  215646    HS-grad              9   \n",
              "3       53           Private  234721       11th              7   \n",
              "4       28           Private  338409  Bachelors             13   \n",
              "...    ...               ...     ...        ...            ...   \n",
              "48837   39           Private  215419  Bachelors             13   \n",
              "48838   64               NaN  321403    HS-grad              9   \n",
              "48839   38           Private  374983  Bachelors             13   \n",
              "48840   44           Private   83891  Bachelors             13   \n",
              "48841   35      Self-emp-inc  182148  Bachelors             13   \n",
              "\n",
              "           marital-status         occupation    relationship  \\\n",
              "0           Never-married       Adm-clerical   Not-in-family   \n",
              "1      Married-civ-spouse    Exec-managerial         Husband   \n",
              "2                Divorced  Handlers-cleaners   Not-in-family   \n",
              "3      Married-civ-spouse  Handlers-cleaners         Husband   \n",
              "4      Married-civ-spouse     Prof-specialty            Wife   \n",
              "...                   ...                ...             ...   \n",
              "48837            Divorced     Prof-specialty   Not-in-family   \n",
              "48838             Widowed                NaN  Other-relative   \n",
              "48839  Married-civ-spouse     Prof-specialty         Husband   \n",
              "48840            Divorced       Adm-clerical       Own-child   \n",
              "48841  Married-civ-spouse    Exec-managerial         Husband   \n",
              "\n",
              "                     race     sex  capital-gain  capital-loss  hours-per-week  \\\n",
              "0                   White    Male          2174             0              40   \n",
              "1                   White    Male             0             0              13   \n",
              "2                   White    Male             0             0              40   \n",
              "3                   Black    Male             0             0              40   \n",
              "4                   Black  Female             0             0              40   \n",
              "...                   ...     ...           ...           ...             ...   \n",
              "48837               White  Female             0             0              36   \n",
              "48838               Black    Male             0             0              40   \n",
              "48839               White    Male             0             0              50   \n",
              "48840  Asian-Pac-Islander    Male          5455             0              40   \n",
              "48841               White    Male             0             0              60   \n",
              "\n",
              "      native-country  income  \n",
              "0      United-States   <=50K  \n",
              "1      United-States   <=50K  \n",
              "2      United-States   <=50K  \n",
              "3      United-States   <=50K  \n",
              "4               Cuba   <=50K  \n",
              "...              ...     ...  \n",
              "48837  United-States  <=50K.  \n",
              "48838  United-States  <=50K.  \n",
              "48839  United-States  <=50K.  \n",
              "48840  United-States  <=50K.  \n",
              "48841  United-States   >50K.  \n",
              "\n",
              "[48842 rows x 15 columns]"
            ]
          },
          "execution_count": 137,
          "metadata": {},
          "output_type": "execute_result"
        }
      ],
      "source": [
        "# Load dataset\n",
        "df = pd.read_csv('income.csv')\n",
        "df"
      ]
    },
    {
      "cell_type": "code",
      "execution_count": null,
      "id": "5b32b6a8-500c-4f2e-bce3-731a2559173f",
      "metadata": {
        "id": "5b32b6a8-500c-4f2e-bce3-731a2559173f",
        "outputId": "4a85a9d2-8018-4df8-ba03-154a7d8aecd6"
      },
      "outputs": [
        {
          "name": "stdout",
          "output_type": "stream",
          "text": [
            "0         <=50K\n",
            "1         <=50K\n",
            "2         <=50K\n",
            "3         <=50K\n",
            "4         <=50K\n",
            "          ...  \n",
            "48837    <=50K.\n",
            "48838    <=50K.\n",
            "48839    <=50K.\n",
            "48840    <=50K.\n",
            "48841     >50K.\n",
            "Name: income, Length: 48842, dtype: object\n"
          ]
        }
      ],
      "source": [
        "print(df['income'])"
      ]
    },
    {
      "cell_type": "code",
      "execution_count": null,
      "id": "ea5beda1-800a-4836-b4ef-48987848b71c",
      "metadata": {
        "id": "ea5beda1-800a-4836-b4ef-48987848b71c",
        "outputId": "05ab8439-cf4d-4f92-d42d-6f762ff10f40"
      },
      "outputs": [
        {
          "name": "stdout",
          "output_type": "stream",
          "text": [
            "<class 'pandas.core.frame.DataFrame'>\n",
            "RangeIndex: 48842 entries, 0 to 48841\n",
            "Data columns (total 15 columns):\n",
            " #   Column          Non-Null Count  Dtype \n",
            "---  ------          --------------  ----- \n",
            " 0   age             48842 non-null  int64 \n",
            " 1   workclass       47879 non-null  object\n",
            " 2   fnlwgt          48842 non-null  int64 \n",
            " 3   education       48842 non-null  object\n",
            " 4   education-num   48842 non-null  int64 \n",
            " 5   marital-status  48842 non-null  object\n",
            " 6   occupation      47876 non-null  object\n",
            " 7   relationship    48842 non-null  object\n",
            " 8   race            48842 non-null  object\n",
            " 9   sex             48842 non-null  object\n",
            " 10  capital-gain    48842 non-null  int64 \n",
            " 11  capital-loss    48842 non-null  int64 \n",
            " 12  hours-per-week  48842 non-null  int64 \n",
            " 13  native-country  48568 non-null  object\n",
            " 14  income          48842 non-null  object\n",
            "dtypes: int64(6), object(9)\n",
            "memory usage: 5.6+ MB\n"
          ]
        }
      ],
      "source": [
        "df.info()"
      ]
    },
    {
      "cell_type": "code",
      "execution_count": null,
      "id": "544a6202-31ae-438c-834e-b3f49fd03d7d",
      "metadata": {
        "id": "544a6202-31ae-438c-834e-b3f49fd03d7d",
        "outputId": "540ea44e-61f1-4b67-d512-3ba7366a6eb7"
      },
      "outputs": [
        {
          "name": "stdout",
          "output_type": "stream",
          "text": [
            "age                 0\n",
            "workclass         963\n",
            "fnlwgt              0\n",
            "education           0\n",
            "education-num       0\n",
            "marital-status      0\n",
            "occupation        966\n",
            "relationship        0\n",
            "race                0\n",
            "sex                 0\n",
            "capital-gain        0\n",
            "capital-loss        0\n",
            "hours-per-week      0\n",
            "native-country    274\n",
            "income              0\n",
            "dtype: int64\n"
          ]
        }
      ],
      "source": [
        "# Explore missing values\n",
        "print(df.isnull().sum())"
      ]
    },
    {
      "cell_type": "code",
      "execution_count": null,
      "id": "4527e4f5-2ec9-4c4e-a32b-6410bb8c3467",
      "metadata": {
        "id": "4527e4f5-2ec9-4c4e-a32b-6410bb8c3467"
      },
      "outputs": [],
      "source": [
        "# Handling missing values\n",
        "categorical_cols = df.select_dtypes(include=['object']).columns\n",
        "numerical_cols = df.select_dtypes(include=['int64', 'float64']).columns\n",
        "\n",
        "df[categorical_cols] = df[categorical_cols].fillna('Unknown')\n",
        "df[numerical_cols] = df[numerical_cols].fillna(df[numerical_cols].median())"
      ]
    },
    {
      "cell_type": "code",
      "execution_count": null,
      "id": "45b498fd-7d14-4786-b972-214ff0f50fe2",
      "metadata": {
        "id": "45b498fd-7d14-4786-b972-214ff0f50fe2"
      },
      "outputs": [],
      "source": [
        "#ubah income jadi biner\n",
        "df['income'] = df['income'].replace({'<=50K': 0, '<=50K.' : 0, '>50K': 1,  '>50K.':1})"
      ]
    },
    {
      "cell_type": "code",
      "execution_count": null,
      "id": "5214173c-ed24-448b-9058-9abfec1032e9",
      "metadata": {
        "id": "5214173c-ed24-448b-9058-9abfec1032e9",
        "outputId": "811bc60f-c15c-495e-8c0f-09a15262220d"
      },
      "outputs": [
        {
          "name": "stdout",
          "output_type": "stream",
          "text": [
            "isi data income setelah diubah :  [0 1]\n",
            "dtype 'income':  int64\n"
          ]
        }
      ],
      "source": [
        "print(\"isi data income setelah diubah : \", df['income'].unique())\n",
        "print(\"dtype 'income': \", df['income'].dtype)  # Pastikan udah jadi int"
      ]
    },
    {
      "cell_type": "code",
      "execution_count": null,
      "id": "c6427b6a-e0c1-4e4e-87b8-97dc45dc6734",
      "metadata": {
        "id": "c6427b6a-e0c1-4e4e-87b8-97dc45dc6734"
      },
      "outputs": [],
      "source": [
        "# Encoding categorical features\n",
        "le = LabelEncoder()\n",
        "for col in categorical_cols:\n",
        "    df[col] = le.fit_transform(df[col])"
      ]
    },
    {
      "cell_type": "code",
      "execution_count": null,
      "id": "fa378067-901b-4e8a-a175-1ea7f546723d",
      "metadata": {
        "id": "fa378067-901b-4e8a-a175-1ea7f546723d"
      },
      "outputs": [],
      "source": [
        "# Splitting features and target\n",
        "X = df.drop(columns=['income'])\n",
        "y = le.fit_transform(df['income'])\n"
      ]
    },
    {
      "cell_type": "code",
      "execution_count": null,
      "id": "f689039b-00f5-4fd5-a66b-6ea4730d9240",
      "metadata": {
        "id": "f689039b-00f5-4fd5-a66b-6ea4730d9240"
      },
      "outputs": [],
      "source": [
        "# Train-test split\n",
        "X_train, X_test, y_train, y_test = train_test_split(X, y, test_size=0.2, random_state=42)\n"
      ]
    },
    {
      "cell_type": "code",
      "execution_count": null,
      "id": "3b4925cb-36d1-4621-8ed2-c171d2b1cb02",
      "metadata": {
        "id": "3b4925cb-36d1-4621-8ed2-c171d2b1cb02"
      },
      "outputs": [],
      "source": [
        "# Feature scaling\n",
        "scaler = StandardScaler()\n",
        "X_train = scaler.fit_transform(X_train)\n",
        "X_test = scaler.transform(X_test)"
      ]
    },
    {
      "cell_type": "code",
      "execution_count": null,
      "id": "b2ace512-0568-4e5e-bc6e-88e6649f2a67",
      "metadata": {
        "id": "b2ace512-0568-4e5e-bc6e-88e6649f2a67"
      },
      "outputs": [],
      "source": [
        "# Define PyTorch\n",
        "class IncomeClassifier(nn.Module):\n",
        "    def __init__(self, input_dim):\n",
        "        super(IncomeClassifier, self).__init__()\n",
        "        self.fc1 = nn.Linear(input_dim, 64)\n",
        "        self.fc2 = nn.Linear(64, 32)\n",
        "        self.fc3 = nn.Linear(32, 1)\n",
        "        self.sigmoid = nn.Sigmoid()\n",
        "\n",
        "    def forward(self, x):\n",
        "        x = torch.relu(self.fc1(x))\n",
        "        x = torch.relu(self.fc2(x))\n",
        "        x = self.sigmoid(self.fc3(x))\n",
        "        return x\n",
        "\n",
        "input_dim = X_train.shape[1]\n",
        "model = IncomeClassifier(input_dim)\n",
        "criterion = nn.BCELoss()\n",
        "optimizer = optim.Adam(model.parameters(), lr=0.001)\n"
      ]
    },
    {
      "cell_type": "code",
      "execution_count": null,
      "id": "97e8bcbd-2b53-4da3-99e3-e6f0080acacc",
      "metadata": {
        "id": "97e8bcbd-2b53-4da3-99e3-e6f0080acacc"
      },
      "outputs": [],
      "source": [
        "# Convert data to tensors\n",
        "X_train_tensor = torch.tensor(X_train, dtype=torch.float32)\n",
        "y_train_tensor = torch.tensor(y_train.reshape(-1, 1), dtype=torch.float32)\n",
        "X_test_tensor = torch.tensor(X_test, dtype=torch.float32)\n",
        "y_test_tensor = torch.tensor(y_test.reshape(-1, 1), dtype=torch.float32)"
      ]
    },
    {
      "cell_type": "code",
      "execution_count": null,
      "id": "3965c231-5a9e-4da2-b560-b0482118b82b",
      "metadata": {
        "id": "3965c231-5a9e-4da2-b560-b0482118b82b"
      },
      "outputs": [],
      "source": [
        "# Training PyTorch\n",
        "epochs = 100\n",
        "for epoch in range(epochs):\n",
        "    model.train()\n",
        "    optimizer.zero_grad()\n",
        "    outputs = model(X_train_tensor)\n",
        "    loss = criterion(outputs, y_train_tensor)\n",
        "    loss.backward()\n",
        "    optimizer.step()"
      ]
    },
    {
      "cell_type": "code",
      "execution_count": null,
      "id": "a998e5c4-3392-4b3f-a4f8-1db6713dafa0",
      "metadata": {
        "id": "a998e5c4-3392-4b3f-a4f8-1db6713dafa0",
        "outputId": "1feb15c4-0af4-4a23-9c70-975a618a707f"
      },
      "outputs": [
        {
          "name": "stderr",
          "output_type": "stream",
          "text": [
            "C:\\Users\\HANIN\\anaconda3\\Lib\\site-packages\\keras\\src\\layers\\core\\dense.py:87: UserWarning: Do not pass an `input_shape`/`input_dim` argument to a layer. When using Sequential models, prefer using an `Input(shape)` object as the first layer in the model instead.\n",
            "  super().__init__(activity_regularizer=activity_regularizer, **kwargs)\n"
          ]
        },
        {
          "data": {
            "text/plain": [
              "<keras.src.callbacks.history.History at 0x20db4fa2550>"
            ]
          },
          "execution_count": 152,
          "metadata": {},
          "output_type": "execute_result"
        }
      ],
      "source": [
        "# TensorFlow\n",
        "tf_model = keras.Sequential([\n",
        "    layers.Dense(64, activation='relu', input_shape=(input_dim,)),\n",
        "    layers.Dense(32, activation='relu'),\n",
        "    layers.Dense(1, activation='sigmoid')\n",
        "])\n",
        "\n",
        "tf_model.compile(optimizer='adam', loss='binary_crossentropy', metrics=['accuracy'])\n",
        "tf_model.fit(X_train, y_train, epochs=100, batch_size=32, verbose=0)"
      ]
    },
    {
      "cell_type": "code",
      "execution_count": null,
      "id": "b53667dd-9bdb-41c0-88dc-98f4491d5639",
      "metadata": {
        "id": "b53667dd-9bdb-41c0-88dc-98f4491d5639"
      },
      "outputs": [],
      "source": [
        "# Evaluation function\n",
        "def evaluate_model(model, X, y):\n",
        "    y_pred = model(X).detach().numpy().round()\n",
        "    accuracy = accuracy_score(y, y_pred)\n",
        "    precision = precision_score(y, y_pred)\n",
        "    recall = recall_score(y, y_pred)\n",
        "    f1 = f1_score(y, y_pred)\n",
        "    auc = roc_auc_score(y, y_pred)\n",
        "    return accuracy, precision, recall, f1, auc\n"
      ]
    },
    {
      "cell_type": "code",
      "execution_count": null,
      "id": "05dbb553-099c-4455-ad78-1e979e12e991",
      "metadata": {
        "id": "05dbb553-099c-4455-ad78-1e979e12e991"
      },
      "outputs": [],
      "source": [
        "# PyTorch evaluation\n",
        "pytorch_metrics = evaluate_model(model, X_test_tensor, y_test)"
      ]
    },
    {
      "cell_type": "code",
      "execution_count": null,
      "id": "11b4ad04-a4b3-48bc-bb86-b6d93b7c61a1",
      "metadata": {
        "id": "11b4ad04-a4b3-48bc-bb86-b6d93b7c61a1",
        "outputId": "18e7e577-3bd8-4d53-c284-0b348ad96243"
      },
      "outputs": [
        {
          "name": "stdout",
          "output_type": "stream",
          "text": [
            "\u001b[1m306/306\u001b[0m \u001b[32m━━━━━━━━━━━━━━━━━━━━\u001b[0m\u001b[37m\u001b[0m \u001b[1m0s\u001b[0m 571us/step\n",
            "      Metric   PyTorch  TensorFlow\n",
            "0   Accuracy  0.828539    0.846248\n",
            "1  Precision  0.708845    0.719732\n",
            "2     Recall  0.490021    0.593206\n",
            "3   F1 Score  0.579463    0.650372\n",
            "4        AUC  0.713044    0.759916\n"
          ]
        }
      ],
      "source": [
        "import pandas as pd\n",
        "\n",
        "# TensorFlow evaluation\n",
        "y_pred_tf = tf_model.predict(X_test).round()\n",
        "tf_metrics = (\n",
        "    accuracy_score(y_test, y_pred_tf),\n",
        "    precision_score(y_test, y_pred_tf),\n",
        "    recall_score(y_test, y_pred_tf),\n",
        "    f1_score(y_test, y_pred_tf),\n",
        "    roc_auc_score(y_test, y_pred_tf)\n",
        ")\n",
        "\n",
        "# Nama metrik\n",
        "metrics_names = [\"Accuracy\", \"Precision\", \"Recall\", \"F1 Score\", \"AUC\"]\n",
        "\n",
        "# Buat tabel\n",
        "results = pd.DataFrame({\n",
        "    \"Metric\": metrics_names,\n",
        "    \"PyTorch\": pytorch_metrics,\n",
        "    \"TensorFlow\": tf_metrics\n",
        "})\n",
        "\n",
        "print(results)\n"
      ]
    },
    {
      "cell_type": "code",
      "execution_count": null,
      "id": "cc993d6d-faa2-4e6f-a844-081295232b7c",
      "metadata": {
        "id": "cc993d6d-faa2-4e6f-a844-081295232b7c",
        "outputId": "c786d985-38ce-492c-e071-62076e07dd47"
      },
      "outputs": [
        {
          "data": {
            "text/plain": [
              "[<matplotlib.lines.Line2D at 0x20db82fba90>]"
            ]
          },
          "execution_count": 159,
          "metadata": {},
          "output_type": "execute_result"
        },
        {
          "data": {
            "image/png": "[encoded data removed]",
            "text/plain": [
              "<Figure size 640x480 with 1 Axes>"
            ]
          },
          "metadata": {},
          "output_type": "display_data"
        }
      ],
      "source": [
        "# ROC Curve for PyTorch\n",
        "fpr, tpr, _ = roc_curve(y_test, model(X_test_tensor).detach().numpy())\n",
        "plt.plot(fpr, tpr, label='PyTorch ROC')"
      ]
    },
    {
      "cell_type": "code",
      "execution_count": null,
      "id": "754b1089-5dfd-4fa3-989a-b2fb489b5d27",
      "metadata": {
        "id": "754b1089-5dfd-4fa3-989a-b2fb489b5d27",
        "outputId": "2c97b31b-a77e-49c2-bd86-cbfbd76b38b6"
      },
      "outputs": [
        {
          "name": "stdout",
          "output_type": "stream",
          "text": [
            "\u001b[1m306/306\u001b[0m \u001b[32m━━━━━━━━━━━━━━━━━━━━\u001b[0m\u001b[37m\u001b[0m \u001b[1m0s\u001b[0m 578us/step\n"
          ]
        },
        {
          "data": {
            "image/png": "[encoded data removed]",
            "text/plain": [
              "<Figure size 640x480 with 1 Axes>"
            ]
          },
          "metadata": {},
          "output_type": "display_data"
        }
      ],
      "source": [
        "# ROC Curve for TensorFlow\n",
        "fpr_tf, tpr_tf, _ = roc_curve(y_test, tf_model.predict(X_test))\n",
        "plt.plot(fpr_tf, tpr_tf, label='TensorFlow ROC')\n",
        "\n",
        "plt.xlabel('False Positive Rate')\n",
        "plt.ylabel('True Positive Rate')\n",
        "plt.legend()\n",
        "plt.show()\n"
      ]
    },
    {
      "cell_type": "markdown",
      "id": "96a7e796-c6c4-4d41-ac29-ac7201101ce5",
      "metadata": {
        "id": "96a7e796-c6c4-4d41-ac29-ac7201101ce5"
      },
      "source": [
        "\n",
        "\n",
        "1. Akurasi (Accuracy)\n",
        "   - Akurasi adalah proporsi prediksi yang benar dari keseluruhan data.\n",
        "   - Formula: (TP + TN) / (TP + TN + FP + FN)\n",
        "   - Kelebihan: Mudah dipahami dan digunakan.\n",
        "   - Kekurangan: Kurang efektif jika dataset tidak seimbang (misalnya, ketika satu kelas jauh lebih dominan daripada kelas lainnya).\n",
        "\n",
        "2. Presisi (Precision)\n",
        "   - Presisi mengukur proporsi prediksi positif yang benar.\n",
        "   - Formula: TP / (TP + FP)\n",
        "   - Kelebihan: Cocok digunakan jika biaya dari False Positive tinggi.\n",
        "   - Kekurangan: Tidak memperhatikan False Negative.\n",
        "\n",
        "3. Recall (Sensitivity atau True Positive Rate)\n",
        "   - Recall mengukur seberapa baik model mendeteksi semua contoh positif.\n",
        "   - Formula: TP / (TP + FN)\n",
        "   - Kelebihan: Cocok digunakan jika biaya dari False Negative tinggi.\n",
        "   - Kekurangan: Tidak memperhatikan False Positive.\n",
        "\n",
        "4. F1 Score\n",
        "   - F1 Score adalah rata-rata harmonis dari Presisi dan Recall.\n",
        "   - Formula: 2 * (Precision * Recall) / (Precision + Recall)\n",
        "   - Kelebihan: Memberikan keseimbangan antara Presisi dan Recall.\n",
        "   - Kekurangan: Bisa kurang intuitif dibandingkan metrik lainnya.\n",
        "\n",
        "5. AUC (Area Under Curve)\n",
        "   - AUC mengukur seberapa baik model membedakan antara kelas positif dan negatif di berbagai threshold.\n",
        "   - Nilai AUC berkisar antara 0 dan 1; semakin mendekati 1, semakin baik performa model.\n",
        "   - Kelebihan: Memberikan gambaran umum performa model tanpa bergantung pada threshold tertentu.\n",
        "   - Kekurangan: Interpretasi bisa kurang langsung dibandingkan metrik lainnya.\n",
        "\n",
        "6. ROC (Receiver Operating Characteristic) Curve\n",
        "   - ROC adalah plot antara True Positive Rate (Recall) dan False Positive Rate di berbagai threshold.\n",
        "   - Kelebihan: Memberikan visualisasi kemampuan model dalam membedakan kelas.\n",
        "   - Kekurangan: Memerlukan interpretasi visual.\n",
        "\n",
        "Metrik terbaik tergantung pada konteks masalah:\n",
        "- Jika keseimbangan antara positif dan negatif penting: F1 Score.\n",
        "- Jika menghindari False Positive lebih penting: Precision.\n",
        "- Jika menghindari False Negative lebih penting: Recall.\n",
        "- Jika ingin gambaran umum performa model: AUC dan ROC.\n",
        "\n",
        "Pada kasus ini, membandingkan metrik dari PyTorch dan TensorFlow dapat dilakukan dengan melihat nilai masing-masing metrik dan mempertimbangkan kebutuhan spesifik dari model yang sedang dikembangkan.\n",
        "\n"
      ]
    },
    {
      "cell_type": "markdown",
      "id": "706a66b8-4058-4c1f-8baf-1a3dede795f3",
      "metadata": {
        "id": "706a66b8-4058-4c1f-8baf-1a3dede795f3"
      },
      "source": [
        "# Kesimpulan dan Perbandingan PyTorch dan TensorFlow\n",
        "\n",
        "## 1. Pembuatan Model Deep Learning\n",
        "Dalam tugas ini, dua model deep learning dibuat menggunakan PyTorch dan TensorFlow. Keduanya digunakan untuk memprediksi variabel target `income` pada dataset dengan pendekatan klasifikasi biner. Model terdiri dari lapisan-lapisan Dense (Fully Connected) dengan fungsi aktivasi ReLU dan Sigmoid untuk output. Model ini dilatih selama 100 epoch dengan optimizer Adam dan fungsi loss `Binary Crossentropy` (BCELoss).\n",
        "\n",
        "---\n",
        "\n",
        "## 2. Perbandingan Matriks Evaluasi\n",
        "Berikut adalah hasil evaluasi kedua model:\n",
        "\n",
        "| **Metric**   | **PyTorch** | **TensorFlow** |\n",
        "|--------------|------------|----------------|\n",
        "| **Accuracy** | 0.828539    | 0.846248       |\n",
        "| **Precision**| 0.708845    | 0.719732       |\n",
        "| **Recall**   | 0.490021    | 0.593206       |\n",
        "| **F1 Score** | 0.579463    | 0.650372       |\n",
        "| **AUC**      | 0.713044    | 0.759916       |\n",
        "\n",
        "**Analisis:**\n",
        "\n",
        "- **Accuracy (Akurasi)**: Model TensorFlow memiliki akurasi yang lebih tinggi (84.62%) dibandingkan PyTorch (82.85%), menunjukkan bahwa model TensorFlow lebih baik dalam mengklasifikasikan data secara keseluruhan.\n",
        "- **Precision (Presisi)**: Presisi TensorFlow (71.97%) sedikit lebih baik dibandingkan PyTorch (70.88%). Ini berarti TensorFlow lebih baik dalam memprediksi positif yang benar dan mengurangi false positive.\n",
        "- **Recall (Recall)**: Recall TensorFlow (59.32%) lebih tinggi dibandingkan PyTorch (49.00%), menunjukkan bahwa TensorFlow lebih baik dalam mendeteksi semua sampel positif.\n",
        "- **F1 Score**: TensorFlow unggul dengan F1 Score 65.04%, yang merupakan keseimbangan antara presisi dan recall, dibandingkan PyTorch (57.95%).\n",
        "- **AUC (Area Under Curve)**: AUC TensorFlow (75.99%) lebih besar dibandingkan PyTorch (71.30%), mengindikasikan bahwa model TensorFlow lebih baik dalam membedakan antara kelas positif dan negatif di berbagai threshold.\n",
        "\n",
        "**Kesimpulan:**  \n",
        "Berdasarkan semua metrik evaluasi, model TensorFlow menunjukkan performa yang lebih baik dibandingkan model PyTorch. Ini terlihat dari nilai akurasi, presisi, recall, F1 score, dan AUC yang lebih tinggi. Oleh karena itu, dalam konteks tugas ini, model TensorFlow adalah pilihan yang lebih baik.\n",
        "\n",
        "---\n",
        "\n",
        "## 3. Penjelasan Persamaan Matematika\n",
        "\n",
        "## Metrik Evaluasi Model\n",
        "\n",
        "### Accuracy (Akurasi)\n",
        "Mengukur proporsi prediksi yang benar dari total data:\n",
        "\n",
        "$$\n",
        "Accuracy = \\frac{True\\ Positives + True\\ Negatives}{Total\\ Samples}\n",
        "$$\n",
        "\n",
        "### Precision (Presisi)\n",
        "Mengukur proporsi prediksi positif yang benar dibandingkan total prediksi positif:\n",
        "\n",
        "$$\n",
        "Precision = \\frac{True\\ Positives}{True\\ Positives + False\\ Positives}\n",
        "$$\n",
        "\n",
        "### Recall (Recall)\n",
        "Mengukur proporsi sampel positif yang berhasil terdeteksi dengan benar:\n",
        "\n",
        "$$\n",
        "Recall = \\frac{True\\ Positives}{True\\ Positives + False\\ Negatives}\n",
        "$$\n",
        "\n",
        "### F1 Score\n",
        "Rata-rata harmonik dari presisi dan recall, memberikan keseimbangan antara keduanya:\n",
        "\n",
        "$$\n",
        "F1\\ Score = 2 \\times \\frac{Precision \\times Recall}{Precision + Recall}\n",
        "$$\n",
        "\n",
        "### AUC (Area Under Curve)\n",
        "Mengukur kemampuan model dalam membedakan antara kelas positif dan negatif di berbagai threshold. AUC mendekati 1 menunjukkan performa yang sangat baik.\n",
        "\n",
        "---\n",
        "\n",
        "**Catatan:**  \n",
        "ROC (Receiver Operating Characteristic) Curve juga telah dibuat untuk memvisualisasikan performa model dalam membedakan kelas positif dan negatif. ROC Curve TensorFlow lebih mendekati sudut kiri atas dibanding PyTorch, menunjukkan performa yang lebih baik.\n"
      ]
    },
    {
      "cell_type": "code",
      "execution_count": null,
      "id": "429527a4-1c46-4261-87a7-f54f492ed1fd",
      "metadata": {
        "id": "429527a4-1c46-4261-87a7-f54f492ed1fd"
      },
      "outputs": [],
      "source": []
    }
  ],
  "metadata": {
    "kernelspec": {
      "display_name": "Python 3 (ipykernel)",
      "language": "python",
      "name": "python3"
    },
    "language_info": {
      "codemirror_mode": {
        "name": "ipython",
        "version": 3
      },
      "file_extension": ".py",
      "mimetype": "text/x-python",
      "name": "python",
      "nbconvert_exporter": "python",
      "pygments_lexer": "ipython3",
      "version": "3.11.7"
    },
    "colab": {
      "provenance": [],
      "include_colab_link": true
    }
  },
  "nbformat": 4,
  "nbformat_minor": 5
}