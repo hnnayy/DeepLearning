{
  "nbformat": 4,
  "nbformat_minor": 0,
  "metadata": {
    "colab": {
      "provenance": [],
      "authorship_tag": "ABX9TyOcpgDDZ9REsHBj9F3hzT4t",
      "include_colab_link": true
    },
    "kernelspec": {
      "name": "python3",
      "display_name": "Python 3"
    },
    "language_info": {
      "name": "python"
    }
  },
  "cells": [
    {
      "cell_type": "markdown",
      "metadata": {
        "id": "view-in-github",
        "colab_type": "text"
      },
      "source": [
        "<a href=\"https://colab.research.google.com/github/hnnayy/DeepLearning/blob/main/week8-16/The%20Fundamentals%20of%20Machine%20Learning/Chapter_3.ipynb\" target=\"_parent\"><img src=\"https://colab.research.google.com/assets/colab-badge.svg\" alt=\"Open In Colab\"/></a>"
      ]
    },
    {
      "cell_type": "markdown",
      "source": [
        "# Rangkuman Chapter 3: Klasifikasi\n",
        "\n",
        "Bab ini menyelami dunia klasifikasi, salah satu tugas pembelajaran terawasi yang paling umum. Berbeda dengan regresi yang memprediksi nilai, klasifikasi bertujuan untuk memprediksi kelas atau kategori.\n",
        "\n",
        "## Dataset MNIST: \"Hello World\" Klasifikasi\n",
        "\n",
        "Kita menggunakan dataset MNIST, kumpulan 70.000 gambar digit tulisan tangan berukuran $28 \\times 28$ piksel. Setiap piksel memiliki intensitas dari 0 (putih) hingga 255 (hitam), dan setiap gambar diberi label digit yang diwakilinya. Dataset ini sudah dibagi menjadi 60.000 gambar untuk set pelatihan dan 10.000 gambar untuk set uji, dengan set pelatihan yang sudah diacak untuk memastikan kesamaan lipatan validasi silang.\n",
        "\n",
        "## Pengklasifikasi Biner: Detektor Angka 5\n",
        "\n",
        "Untuk memulai, kita menyederhanakan masalah menjadi klasifikasi biner: mendeteksi apakah suatu gambar adalah angka 5 atau bukan. Sebuah SGDClassifier (Stochastic Gradient Descent Classifier) dipilih karena efisiensinya dalam menangani dataset besar.\n",
        "\n",
        "## Mengukur Kinerja Pengklasifikasi\n",
        "\n",
        "Mengevaluasi pengklasifikasi jauh lebih rumit daripada regressor. Bab ini membahas beberapa metrik penting:\n",
        "\n",
        "### Akurasi\n",
        "Rasio prediksi yang benar. Meskipun mudah dipahami, akurasi bisa menyesatkan pada dataset yang miring (ketika satu kelas jauh lebih sering daripada yang lain, seperti pada dataset MNIST yang didominasi oleh non-5). Sebuah pengklasifikasi sederhana yang selalu memprediksi \"bukan 5\" bisa mencapai akurasi lebih dari 90% karena hanya sekitar 10% gambar adalah angka 5. Ini menunjukkan mengapa akurasi seringkali bukan metrik yang disukai untuk pengklasifikasi, terutama pada dataset yang miring.\n",
        "\n",
        "### Matriks Konfusi\n",
        "Cara yang jauh lebih baik untuk mengevaluasi pengklasifikasi. Matriks ini menghitung berapa kali instance dari kelas A diklasifikasikan sebagai kelas B.\n",
        "\n",
        "**Komponen Matriks Konfusi:**\n",
        "\n",
        "- **True Positives (TP)**: Instance positif yang diklasifikasikan dengan benar sebagai positif\n",
        "- **True Negatives (TN)**: Instance negatif yang diklasifikasikan dengan benar sebagai negatif  \n",
        "- **False Positives (FP)**: Instance negatif yang salah diklasifikasikan sebagai positif (Kesalahan Tipe I)\n",
        "- **False Negatives (FN)**: Instance positif yang salah diklasifikasikan sebagai negatif (Kesalahan Tipe II)\n",
        "\n",
        "### Metrik Evaluasi\n",
        "\n",
        "**Presisi (Precision)**: Rasio prediksi positif yang benar.\n",
        "\n",
        "$$\\text{Presisi} = \\frac{TP}{TP + FP}$$\n",
        "\n",
        "**Recall (Sensitivitas/True Positive Rate)**: Rasio instance positif yang terdeteksi dengan benar oleh pengklasifikasi.\n",
        "\n",
        "$$\\text{Recall} = \\frac{TP}{TP + FN}$$\n",
        "\n",
        "**F1 Score**: Rata-rata harmonis presisi dan recall. Ini berguna untuk membandingkan dua pengklasifikasi, dan tinggi hanya jika presisi dan recall tinggi.\n",
        "\n",
        "$$F_1 = \\frac{2 \\times \\text{Presisi} \\times \\text{Recall}}{\\text{Presisi} + \\text{Recall}}$$\n",
        "\n",
        "### Precision/Recall Trade-off\n",
        "Meningkatkan presisi cenderung mengurangi recall, dan sebaliknya. Pengklasifikasi membuat keputusan berdasarkan skor keputusan relatif terhadap ambang batas (threshold). Anda dapat mengatur ambang batas ini untuk mencapai trade-off presisi/recall yang diinginkan.\n",
        "\n",
        "### Kurva ROC (Receiver Operating Characteristic)\n",
        "Memplot True Positive Rate (Recall) terhadap False Positive Rate (FPR) untuk semua kemungkinan ambang batas. FPR adalah rasio instance negatif yang salah diklasifikasikan sebagai positif:\n",
        "\n",
        "$$\\text{FPR} = 1 - \\text{Spesifisitas}$$\n",
        "\n",
        "Pengklasifikasi yang baik memiliki kurva ROC yang berada sejauh mungkin dari garis diagonal acak, menuju sudut kiri atas.\n",
        "\n",
        "**ROC AUC (Area Under the Curve)**: Mengukur area di bawah kurva ROC. 1 adalah pengklasifikasi sempurna, 0.5 adalah pengklasifikasi acak murni.\n",
        "\n",
        "**Aturan Praktis**: Gunakan kurva PR (Precision-Recall) ketika kelas positif jarang atau ketika Anda lebih peduli pada false positives daripada false negatives. Gunakan kurva ROC dalam kasus lain.\n",
        "\n",
        "## Klasifikasi Multikelas\n",
        "\n",
        "Pengklasifikasi multikelas dapat membedakan lebih dari dua kelas. Beberapa algoritma (seperti SGDClassifier, RandomForestClassifier) menangani multikelas secara native, sementara yang lain (seperti SVC, Logistic Regression) menggunakan strategi untuk mengubah pengklasifikasi biner menjadi multikelas:\n",
        "\n",
        "### Strategi Multikelas:\n",
        "\n",
        "**One-versus-the-Rest (OvR)**: Melatih $N$ pengklasifikasi biner (satu per kelas)\n",
        "\n",
        "**One-versus-One (OvO)**: Melatih pengklasifikasi biner untuk setiap pasangan kelas $\\left(\\frac{N \\times (N-1)}{2}\\right.$ pengklasifikasi$\\left.\\right)$\n",
        "\n",
        "Pengklasifikasi multikelas juga dapat dievaluasi menggunakan matriks konfusi, dan analisis kesalahan pada matriks tersebut dapat memberikan wawasan untuk meningkatkan kinerja model, seperti mengidentifikasi digit yang sering salah diklasifikasikan.\n",
        "\n",
        "## Klasifikasi Multilabel\n",
        "\n",
        "Sistem klasifikasi multilabel menghasilkan beberapa label biner untuk setiap instance. Contohnya adalah pengenalan wajah yang menandai beberapa orang dalam satu gambar. Evaluasi dapat dilakukan dengan menghitung $F_1$ score untuk setiap label, lalu menghitung rata-ratanya (misalnya, rata-rata \"macro\" atau \"weighted\").\n",
        "\n",
        "## Klasifikasi Multioutput\n",
        "\n",
        "Ini adalah generalisasi klasifikasi multilabel di mana setiap label dapat menjadi multikelas (yaitu, memiliki lebih dari dua nilai yang mungkin). Contoh yang diberikan adalah sistem penghilang noise dari gambar digit, di mana setiap piksel adalah label yang dapat memiliki nilai intensitas dari 0 hingga 255."
      ],
      "metadata": {
        "id": "WnRYrTuA9bdR"
      }
    },
    {
      "cell_type": "code",
      "execution_count": null,
      "metadata": {
        "id": "QO9uQI599aF1"
      },
      "outputs": [],
      "source": []
    }
  ]
}