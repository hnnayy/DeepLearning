{
  "nbformat": 4,
  "nbformat_minor": 0,
  "metadata": {
    "colab": {
      "provenance": [],
      "authorship_tag": "ABX9TyO+WBuxCrWnQzVkPKzr9yvu",
      "include_colab_link": true
    },
    "kernelspec": {
      "name": "python3",
      "display_name": "Python 3"
    },
    "language_info": {
      "name": "python"
    }
  },
  "cells": [
    {
      "cell_type": "markdown",
      "metadata": {
        "id": "view-in-github",
        "colab_type": "text"
      },
      "source": [
        "<a href=\"https://colab.research.google.com/github/hnnayy/DeepLearning/blob/main/week8-16/The%20Fundamentals%20of%20Machine%20Learning/Chapter_1.ipynb\" target=\"_parent\"><img src=\"https://colab.research.google.com/assets/colab-badge.svg\" alt=\"Open In Colab\"/></a>"
      ]
    },
    {
      "cell_type": "markdown",
      "source": [
        "**Bab 1: Lanskap Pembelajaran Mesin**\n",
        "\n",
        "Bab ini memperkenalkan konsep dasar Pembelajaran Mesin (Machine Learning/ML), menjelaskan mengapa ML penting, dan mengkategorikan berbagai jenis sistem ML. Ini juga membahas tantangan utama dalam proyek ML dan bagaimana mengevaluasi serta menyempurnakan model ML.\n",
        "\n",
        "**Apa itu Pembelajaran Mesin?**\n",
        "\n",
        "Pembelajaran Mesin adalah ilmu dan seni memprogram komputer agar dapat belajar dari data, tanpa harus diprogram secara eksplisit. Sebuah program komputer dikatakan belajar jika kinerjanya pada tugas ($T$) yang diukur oleh ukuran kinerja ($P$) meningkat seiring dengan pengalaman ($E$). Contoh yang bagus adalah filter spam, yang belajar mengidentifikasi spam dari contoh email spam dan non-spam (data pelatihan).\n",
        "\n",
        "**Mengapa Menggunakan Pembelajaran Mesin?**\n",
        "\n",
        "ML sangat berguna untuk:\n",
        "* **Masalah yang membutuhkan banyak penyetelan atau daftar aturan yang panjang:** ML dapat menyederhanakan kode dan berkinerja lebih baik daripada pendekatan tradisional.\n",
        "* **Masalah kompleks tanpa algoritma yang diketahui:** ML dapat menemukan solusi.\n",
        "* **Lingkungan yang berfluktuasi:** Sistem ML dapat beradaptasi dengan data baru secara otomatis.\n",
        "* **Mendapatkan wawasan tentang masalah kompleks dan sejumlah besar data:** Ini sering disebut penambangan data (data mining).\n",
        "\n",
        "**Contoh Aplikasi ML:**\n",
        "\n",
        "ML digunakan dalam berbagai aplikasi, seperti:\n",
        "* **Klasifikasi gambar:** Mengidentifikasi objek dalam gambar (misalnya, tumor dalam pemindaian otak).\n",
        "* **Pemrosesan Bahasa Alami (NLP):** Mengklasifikasikan artikel berita, memfilter komentar yang menyinggung, meringkas dokumen, membuat chatbot.\n",
        "* **Regresi:** Memprediksi nilai numerik (misalnya, pendapatan perusahaan).\n",
        "* **Pengenalan suara:** Mengubah ucapan menjadi teks.\n",
        "* **Deteksi anomali:** Mendeteksi penipuan kartu kredit atau cacat manufaktur.\n",
        "* **Pengelompokan (Clustering):** Mengelompokkan pelanggan berdasarkan pembelian mereka.\n",
        "* **Reduksi dimensi:** Merepresentasikan dataset berdimensi tinggi dalam diagram yang jelas.\n",
        "* **Sistem pemberi rekomendasi:** Merekomendasikan produk.\n",
        "* **Pembelajaran Penguatan (Reinforcement Learning/RL):** Melatih agen (misalnya, bot game) untuk memaksimalkan hadiah dari waktu ke waktu.\n",
        "\n",
        "**Jenis Sistem Pembelajaran Mesin:**\n",
        "\n",
        "Sistem ML dapat diklasifikasikan berdasarkan:\n",
        "\n",
        "1.  **Pengawasan Manusia:**\n",
        "    * **Pembelajaran Terawasi (Supervised Learning):** Data pelatihan mencakup solusi yang diinginkan (label). Contoh: klasifikasi (filter spam) dan regresi (memprediksi harga).\n",
        "        * Algoritma penting: k-Nearest Neighbors, Linear Regression, Logistic Regression, Support Vector Machines (SVMs), Decision Trees dan Random Forests, Neural Networks.\n",
        "    * **Pembelajaran Tak Terawasi (Unsupervised Learning):** Data pelatihan tidak berlabel. Sistem mencoba belajar tanpa guru.\n",
        "        * Algoritma penting: Clustering (K-Means, DBSCAN, HCA), Anomaly Detection dan Novelty Detection (One-class SVM, Isolation Forest), Visualization dan Dimensionality Reduction (PCA, Kernel PCA, LLE, t-SNE), Association Rule Learning (Apriori, Eclat).\n",
        "    * **Pembelajaran Semiterawasi (Semisupervised Learning):** Menggunakan data yang sebagian berlabel. Menggabungkan teknik tanpa pengawasan dan terawasi. Contoh: Pengenalan wajah di Google Photos.\n",
        "    * **Pembelajaran Penguatan (Reinforcement Learning):** Sistem (agen) mengamati lingkungan, melakukan tindakan, dan mendapatkan hadiah atau hukuman. Ini belajar strategi (kebijakan) terbaik untuk memaksimalkan hadiah dari waktu ke waktu. Contoh: AlphaGo.\n",
        "\n",
        "2.  **Pembelajaran Inkremental:**\n",
        "    * **Pembelajaran Batch (Batch Learning):** Sistem dilatih menggunakan semua data yang tersedia secara offline. Ini membutuhkan banyak waktu dan sumber daya komputasi. Jika data baru tersedia, sistem harus dilatih ulang dari awal.\n",
        "    * **Pembelajaran Online (Online Learning):** Sistem dilatih secara inkremental dengan memasukkan instance data secara berurutan (satu per satu atau dalam mini-batch). Ini cepat dan murah, sehingga sistem dapat beradaptasi dengan data baru secara cepat. Baik untuk data yang mengalir terus-menerus atau dataset yang terlalu besar untuk memori utama (out-of-core learning). Parameter penting adalah tingkat pembelajaran (learning rate).\n",
        "\n",
        "3.  **Mekanisme Generalisasi:**\n",
        "    * **Pembelajaran Berbasis Instance (Instance-Based Learning):** Sistem belajar contoh secara hafalan, lalu menggeneralisasi kasus baru dengan mengukur kemiripan dengan contoh yang dipelajari. Contoh: k-Nearest Neighbors.\n",
        "    * **Pembelajaran Berbasis Model (Model-Based Learning):** Sistem membangun model dari contoh-contoh dan kemudian menggunakan model tersebut untuk membuat prediksi. Ini melibatkan pemilihan model (misalnya, model linear), pelatihan model (menemukan parameter yang meminimalkan fungsi biaya), dan inferensi (membuat prediksi pada kasus baru).\n",
        "\n",
        "**Tantangan Utama Pembelajaran Mesin:**\n",
        "\n",
        "Tantangan dalam ML dapat berasal dari \"algoritma yang buruk\" atau \"data yang buruk\".\n",
        "\n",
        "* **Data yang Buruk:**\n",
        "    * **Kuantitas Data Pelatihan yang Tidak Cukup:** Kebanyakan algoritma ML membutuhkan banyak data agar berfungsi dengan baik.\n",
        "    * **Data Pelatihan yang Tidak Representatif:** Data pelatihan harus mewakili kasus baru yang ingin digeneralisasi. Sampling bias (kesalahan dalam metode pengambilan sampel) dapat menyebabkan data tidak representatif.\n",
        "    * **Data Berkualitas Buruk:** Kesalahan, outlier, dan noise dalam data pelatihan dapat menyulitkan sistem untuk mendeteksi pola. Pembersihan data (data cleaning) sangat penting.\n",
        "    * **Fitur yang Tidak Relevan:** Sistem hanya akan belajar jika data pelatihan mengandung fitur yang cukup relevan. Rekayasa fitur (feature engineering) melibatkan pemilihan fitur, ekstraksi fitur, dan pembuatan fitur baru.\n",
        "\n",
        "* **Algoritma yang Buruk:**\n",
        "    * **Overfitting Data Pelatihan:** Model berkinerja baik pada data pelatihan tetapi tidak menggeneralisasi dengan baik ke data baru. Ini terjadi ketika model terlalu kompleks relatif terhadap jumlah dan noise data pelatihan. Solusi: menyederhanakan model (lebih sedikit parameter, mengurangi atribut), mengumpulkan lebih banyak data pelatihan, atau mengurangi noise dalam data. Regularisasi (constraining model untuk membuatnya lebih sederhana) adalah teknik umum untuk mengatasi overfitting.\n",
        "    * **Underfitting Data Pelatihan:** Model terlalu sederhana untuk mempelajari struktur data yang mendasari. Prediksinya cenderung tidak akurat. Solusi: memilih model yang lebih kuat, memberikan fitur yang lebih baik, atau mengurangi batasan pada model (misalnya, mengurangi hyperparameter regularisasi).\n",
        "\n",
        "**Pengujian dan Validasi:**\n",
        "\n",
        "Untuk mengetahui seberapa baik model akan menggeneralisasi ke kasus baru, Anda perlu mengujinya pada kasus baru.\n",
        "* **Set Pelatihan dan Set Uji:** Data dibagi menjadi set pelatihan (untuk melatih model) dan set uji (untuk mengevaluasi kinerja model pada data yang belum pernah dilihat). Tingkat kesalahan pada kasus baru disebut kesalahan generalisasi.\n",
        "* **Penyetelan Hyperparameter dan Pemilihan Model:** Untuk memilih model terbaik dan menyetel hyperparameter, **validasi holdout** digunakan: sebagian dari set pelatihan ditahan sebagai **set validasi**. Berbagai model dan hyperparameter dilatih pada set pelatihan yang dikurangi, dan yang berkinerja terbaik pada set validasi dipilih. Model terbaik kemudian dilatih pada set pelatihan penuh (termasuk set validasi) dan dievaluasi pada set uji untuk mendapatkan perkiraan kesalahan generalisasi yang tidak bias. **Cross-validation** berulang dapat memberikan pengukuran kinerja yang lebih akurat tetapi lebih memakan waktu.\n",
        "* **Ketidakcocokan Data (Data Mismatch):** Jika data pelatihan (misalnya, gambar web) berbeda dari data produksi (misalnya, gambar aplikasi seluler), kinerja model dapat mengecewakan. **Set train-dev** dapat digunakan untuk mengidentifikasi apakah masalahnya adalah overfitting pada set pelatihan atau ketidakcocokan data.\n",
        "\n",
        "**Teorema No Free Lunch (NFL):**\n",
        "\n",
        "Teorema NFL menyatakan bahwa jika Anda tidak membuat asumsi sama sekali tentang data, maka tidak ada alasan untuk memilih satu model di atas model lainnya. Dalam praktiknya, Anda membuat beberapa asumsi yang masuk akal tentang data dan mengevaluasi beberapa model yang masuk akal."
      ],
      "metadata": {
        "id": "vgC-ifYOxN-h"
      }
    }
  ]
}