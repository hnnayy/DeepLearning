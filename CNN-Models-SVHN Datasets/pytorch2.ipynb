{
 "cells": [
  {
   "cell_type": "code",
   "execution_count": 1,
   "metadata": {},
   "outputs": [
    {
     "name": "stderr",
     "output_type": "stream",
     "text": [
      "c:\\Users\\HANIN\\anaconda3\\Lib\\site-packages\\torch\\utils\\_pytree.py:185: FutureWarning: optree is installed but the version is too old to support PyTorch Dynamo in C++ pytree. C++ pytree support is disabled. Please consider upgrading optree using `python3 -m pip install --upgrade 'optree>=0.13.0'`.\n",
      "  warnings.warn(\n"
     ]
    }
   ],
   "source": [
    "import torch\n",
    "import torch.nn as nn\n",
    "import torch.optim as optim\n",
    "import torchvision.transforms as transforms\n",
    "import torchvision.datasets as datasets\n",
    "from torch.utils.data import DataLoader\n",
    "from sklearn.metrics import accuracy_score, precision_score, recall_score, f1_score, roc_auc_score, roc_curve\n",
    "import numpy as np\n",
    "import matplotlib.pyplot as plt"
   ]
  },
  {
   "cell_type": "code",
   "execution_count": 2,
   "metadata": {},
   "outputs": [],
   "source": [
    "# Constants\n",
    "BATCH_SIZE = 128\n",
    "LEARNING_RATE = 0.001\n",
    "EPOCHS = 20"
   ]
  },
  {
   "cell_type": "code",
   "execution_count": 3,
   "metadata": {},
   "outputs": [
    {
     "name": "stderr",
     "output_type": "stream",
     "text": [
      "100%|██████████| 182M/182M [02:44<00:00, 1.10MB/s] \n",
      "100%|██████████| 64.3M/64.3M [00:16<00:00, 3.80MB/s]\n"
     ]
    }
   ],
   "source": [
    "# Load SVHN Dataset\n",
    "transform = transforms.Compose([\n",
    "    transforms.ToTensor(),\n",
    "    transforms.Normalize((0.5,), (0.5,))\n",
    "])\n",
    "svhn_train = datasets.SVHN(root='./data', split='train', transform=transform, download=True)\n",
    "svhn_test = datasets.SVHN(root='./data', split='test', transform=transform, download=True)\n",
    "\n",
    "train_loader = DataLoader(svhn_train, batch_size=BATCH_SIZE, shuffle=True)\n",
    "test_loader = DataLoader(svhn_test, batch_size=BATCH_SIZE, shuffle=False)"
   ]
  },
  {
   "cell_type": "code",
   "execution_count": 4,
   "metadata": {},
   "outputs": [],
   "source": [
    "# PyTorch CNN Model\n",
    "class CNN(nn.Module):\n",
    "    def __init__(self):\n",
    "        super(CNN, self).__init__()\n",
    "        self.conv1 = nn.Conv2d(3, 32, kernel_size=3, stride=1, padding=1)\n",
    "        self.conv2 = nn.Conv2d(32, 64, kernel_size=3, stride=1, padding=1)\n",
    "        self.fc1 = nn.Linear(64 * 8 * 8, 128)\n",
    "        self.fc2 = nn.Linear(128, 10)\n",
    "        self.relu = nn.ReLU()\n",
    "        self.pool = nn.MaxPool2d(2, 2)\n",
    "\n",
    "    def forward(self, x):\n",
    "        x = self.pool(self.relu(self.conv1(x)))\n",
    "        x = self.pool(self.relu(self.conv2(x)))\n",
    "        x = x.view(x.size(0), -1)\n",
    "        x = self.relu(self.fc1(x))\n",
    "        x = self.fc2(x)\n",
    "        return x\n"
   ]
  },
  {
   "cell_type": "code",
   "execution_count": 5,
   "metadata": {},
   "outputs": [],
   "source": [
    "# PyTorch MLP Model\n",
    "class MLP(nn.Module):\n",
    "    def __init__(self):\n",
    "        super(MLP, self).__init__()\n",
    "        self.fc1 = nn.Linear(32*32*3, 512)\n",
    "        self.fc2 = nn.Linear(512, 256)\n",
    "        self.fc3 = nn.Linear(256, 10)\n",
    "        self.relu = nn.ReLU()\n",
    "\n",
    "    def forward(self, x):\n",
    "        x = x.view(x.size(0), -1)\n",
    "        x = self.relu(self.fc1(x))\n",
    "        x = self.relu(self.fc2(x))\n",
    "        x = self.fc3(x)\n",
    "        return x"
   ]
  },
  {
   "cell_type": "code",
   "execution_count": 6,
   "metadata": {},
   "outputs": [],
   "source": [
    "# Training Function\n",
    "def train_model(model, train_loader, criterion, optimizer, epochs):\n",
    "    model.train()\n",
    "    for epoch in range(epochs):\n",
    "        total_loss = 0\n",
    "        correct = 0\n",
    "        total = 0\n",
    "        for images, labels in train_loader:\n",
    "            optimizer.zero_grad()\n",
    "            outputs = model(images)\n",
    "            loss = criterion(outputs, labels)\n",
    "            loss.backward()\n",
    "            optimizer.step()\n",
    "            total_loss += loss.item()\n",
    "            _, predicted = torch.max(outputs, 1)\n",
    "            correct += (predicted == labels).sum().item()\n",
    "            total += labels.size(0)\n",
    "        train_acc = 100 * correct / total\n",
    "        print(f\"Epoch {epoch+1}/{epochs}, Loss: {total_loss/len(train_loader):.4f}, Training Accuracy: {train_acc:.2f}%\")\n"
   ]
  },
  {
   "cell_type": "code",
   "execution_count": 7,
   "metadata": {},
   "outputs": [],
   "source": [
    "# Evaluation Function\n",
    "def evaluate_model(model, test_loader):\n",
    "    model.eval()\n",
    "    y_true, y_pred, y_prob = [], [], []\n",
    "    with torch.no_grad():\n",
    "        for images, labels in test_loader:\n",
    "            outputs = model(images)\n",
    "            _, predicted = torch.max(outputs, 1)\n",
    "            y_true.extend(labels.numpy())\n",
    "            y_pred.extend(predicted.numpy())\n",
    "            y_prob.extend(torch.softmax(outputs, dim=1).numpy())\n",
    "    \n",
    "    acc = accuracy_score(y_true, y_pred)\n",
    "    prec = precision_score(y_true, y_pred, average='macro')\n",
    "    recall = recall_score(y_true, y_pred, average='macro')\n",
    "    f1 = f1_score(y_true, y_pred, average='macro')\n",
    "    auc = roc_auc_score(y_true, np.array(y_prob), multi_class='ovo')\n",
    "    \n",
    "    print(f\"Accuracy: {acc:.4f}, Precision: {prec:.4f}, Recall: {recall:.4f}, F1: {f1:.4f}, AUC: {auc:.4f}\")\n",
    "    \n",
    "    fpr, tpr, _ = roc_curve(y_true, np.max(y_prob, axis=1), pos_label=1)\n",
    "    plt.plot(fpr, tpr, label=\"ROC Curve\")\n",
    "    plt.xlabel(\"False Positive Rate\")\n",
    "    plt.ylabel(\"True Positive Rate\")\n",
    "    plt.title(\"ROC Curve\")\n",
    "    plt.legend()\n",
    "    plt.show()"
   ]
  },
  {
   "cell_type": "code",
   "execution_count": 8,
   "metadata": {},
   "outputs": [
    {
     "name": "stdout",
     "output_type": "stream",
     "text": [
      "Epoch 1/20, Loss: 0.8973, Training Accuracy: 72.17%\n",
      "Epoch 2/20, Loss: 0.4763, Training Accuracy: 86.52%\n",
      "Epoch 3/20, Loss: 0.3915, Training Accuracy: 88.76%\n",
      "Epoch 4/20, Loss: 0.3343, Training Accuracy: 90.30%\n",
      "Epoch 5/20, Loss: 0.2962, Training Accuracy: 91.35%\n",
      "Epoch 6/20, Loss: 0.2620, Training Accuracy: 92.35%\n",
      "Epoch 7/20, Loss: 0.2333, Training Accuracy: 93.21%\n",
      "Epoch 8/20, Loss: 0.2065, Training Accuracy: 93.89%\n",
      "Epoch 9/20, Loss: 0.1798, Training Accuracy: 94.79%\n",
      "Epoch 10/20, Loss: 0.1615, Training Accuracy: 95.18%\n",
      "Epoch 11/20, Loss: 0.1409, Training Accuracy: 95.80%\n",
      "Epoch 12/20, Loss: 0.1218, Training Accuracy: 96.35%\n",
      "Epoch 13/20, Loss: 0.1065, Training Accuracy: 96.82%\n",
      "Epoch 14/20, Loss: 0.0907, Training Accuracy: 97.23%\n",
      "Epoch 15/20, Loss: 0.0820, Training Accuracy: 97.44%\n",
      "Epoch 16/20, Loss: 0.0678, Training Accuracy: 97.91%\n",
      "Epoch 17/20, Loss: 0.0609, Training Accuracy: 98.10%\n",
      "Epoch 18/20, Loss: 0.0584, Training Accuracy: 98.13%\n",
      "Epoch 19/20, Loss: 0.0454, Training Accuracy: 98.56%\n",
      "Epoch 20/20, Loss: 0.0421, Training Accuracy: 98.66%\n",
      "Accuracy: 0.8689, Precision: 0.8554, Recall: 0.8626, F1: 0.8574, AUC: 0.9851\n"
     ]
    },
    {
     "data": {
      "image/png": "[encoded data removed]",
      "text/plain": [
       "<Figure size 640x480 with 1 Axes>"
      ]
     },
     "metadata": {},
     "output_type": "display_data"
    }
   ],
   "source": [
    "# Initialize, Train, and Evaluate CNN Model\n",
    "cnn_model = CNN()\n",
    "criterion = nn.CrossEntropyLoss()\n",
    "optimizer = optim.Adam(cnn_model.parameters(), lr=LEARNING_RATE)\n",
    "train_model(cnn_model, train_loader, criterion, optimizer, EPOCHS)\n",
    "evaluate_model(cnn_model, test_loader)"
   ]
  },
  {
   "cell_type": "code",
   "execution_count": 9,
   "metadata": {},
   "outputs": [
    {
     "name": "stdout",
     "output_type": "stream",
     "text": [
      "Epoch 1/20, Loss: 1.1618, Training Accuracy: 62.67%\n",
      "Epoch 2/20, Loss: 0.7809, Training Accuracy: 76.12%\n",
      "Epoch 3/20, Loss: 0.6684, Training Accuracy: 79.68%\n",
      "Epoch 4/20, Loss: 0.5974, Training Accuracy: 81.95%\n",
      "Epoch 5/20, Loss: 0.5541, Training Accuracy: 83.15%\n",
      "Epoch 6/20, Loss: 0.5173, Training Accuracy: 84.13%\n",
      "Epoch 7/20, Loss: 0.4846, Training Accuracy: 85.27%\n",
      "Epoch 8/20, Loss: 0.4572, Training Accuracy: 85.95%\n",
      "Epoch 9/20, Loss: 0.4414, Training Accuracy: 86.28%\n",
      "Epoch 10/20, Loss: 0.4121, Training Accuracy: 87.25%\n",
      "Epoch 11/20, Loss: 0.3964, Training Accuracy: 87.63%\n",
      "Epoch 12/20, Loss: 0.3790, Training Accuracy: 88.19%\n",
      "Epoch 13/20, Loss: 0.3601, Training Accuracy: 88.75%\n",
      "Epoch 14/20, Loss: 0.3522, Training Accuracy: 88.94%\n",
      "Epoch 15/20, Loss: 0.3332, Training Accuracy: 89.47%\n",
      "Epoch 16/20, Loss: 0.3219, Training Accuracy: 89.91%\n",
      "Epoch 17/20, Loss: 0.3072, Training Accuracy: 90.34%\n",
      "Epoch 18/20, Loss: 0.2935, Training Accuracy: 90.68%\n",
      "Epoch 19/20, Loss: 0.2859, Training Accuracy: 90.90%\n",
      "Epoch 20/20, Loss: 0.2798, Training Accuracy: 91.14%\n",
      "Accuracy: 0.8029, Precision: 0.7890, Recall: 0.7878, F1: 0.7879, AUC: 0.9667\n"
     ]
    },
    {
     "data": {
      "image/png": "[encoded data removed]",
      "text/plain": [
       "<Figure size 640x480 with 1 Axes>"
      ]
     },
     "metadata": {},
     "output_type": "display_data"
    }
   ],
   "source": [
    "# Initialize, Train, and Evaluate MLP Model\n",
    "mlp_model = MLP()\n",
    "optimizer = optim.Adam(mlp_model.parameters(), lr=LEARNING_RATE)\n",
    "train_model(mlp_model, train_loader, criterion, optimizer, EPOCHS)\n",
    "evaluate_model(mlp_model, test_loader)"
   ]
  },
  {
   "cell_type": "markdown",
   "metadata": {},
   "source": [
    "# Analisis Perbandingan Model CNN dan MLP\n",
    "\n",
    "## 1. Pendahuluan\n",
    "\n",
    "Dalam eksperimen ini, saya membandingkan kinerja dua model deep learning yang saya kembangkan: sebuah Convolutional Neural Network (CNN) dan Multi-Layer Perceptron (MLP). Saya akan menganalisis bagaimana kedua model berkembang selama proses pelatihan dan membandingkan metrik kinerja akhir mereka.\n",
    "\n",
    "## 2. Proses Pelatihan Model\n",
    "\n",
    "### Model CNN Saya\n",
    "- Waktu pelatihan: 32 menit 25,4 detik\n",
    "- Total epoch: 20\n",
    "- Loss awal (Epoch 1): 0,8973\n",
    "- Loss akhir (Epoch 20): 0,0421\n",
    "- Akurasi awal (Epoch 1): 72,17%\n",
    "- Akurasi akhir (Epoch 20): 98,66%\n",
    "\n",
    "### Model MLP Saya\n",
    "- Waktu pelatihan: 8 menit 47,2 detik\n",
    "- Total epoch: 20\n",
    "- Loss awal (Epoch 1): 1,1618\n",
    "- Loss akhir (Epoch 20): 0,2798\n",
    "- Akurasi awal (Epoch 1): 62,67%\n",
    "- Akurasi akhir (Epoch 20): 91,14%\n",
    "\n",
    "## 3. Perbandingan Metrik Kinerja Akhir\n",
    "\n",
    "| Metrik | Model CNN Saya | Model MLP Saya |\n",
    "|--------|-----------|-----------|\n",
    "| Akurasi | 0,8689 | 0,8029 |\n",
    "| Presisi | 0,8554 | 0,7890 |\n",
    "| Recall | 0,8626 | 0,7878 |\n",
    "| F1 Score | 0,8574 | 0,7879 |\n",
    "| AUC | 0,9851 | 0,9667 |\n",
    "\n",
    "## 4. Penjelasan Matematis Metrik\n",
    "\n",
    "### Akurasi\n",
    "Dalam percobaan saya, akurasi menunjukkan proporsi instance yang berhasil diklasifikasikan dengan benar oleh model saya:\n",
    "\n",
    "$$\\text{Akurasi} = \\frac{TP + TN}{TP + TN + FP + FN}$$\n",
    "\n",
    "Dimana:\n",
    "- TP (True Positives): Instance positif yang berhasil saya prediksi dengan benar\n",
    "- TN (True Negatives): Instance negatif yang berhasil saya prediksi dengan benar\n",
    "- FP (False Positives): Instance negatif yang salah saya prediksi sebagai positif\n",
    "- FN (False Negatives): Instance positif yang salah saya prediksi sebagai negatif\n",
    "\n",
    "### Presisi\n",
    "Presisi yang saya hitung mengukur seberapa akurat model saya ketika memprediksi kelas positif:\n",
    "\n",
    "$$\\text{Presisi} = \\frac{TP}{TP + FP}$$\n",
    "\n",
    "Metrik ini menjawab pertanyaan riset saya: \"Dari semua instance yang model saya prediksi sebagai positif, berapa banyak yang benar-benar positif?\"\n",
    "\n",
    "### Recall (Sensitivitas)\n",
    "Recall dalam model saya mengukur kemampuan model untuk menemukan semua instance positif:\n",
    "\n",
    "$$\\text{Recall} = \\frac{TP}{TP + FN}$$\n",
    "\n",
    "Metric ini menjawab pertanyaan kunci: \"Dari semua instance positif yang sebenarnya, berapa banyak yang berhasil ditemukan oleh model saya?\"\n",
    "\n",
    "### F1 Score\n",
    "F1 Score yang saya hitung adalah rata-rata harmonik dari presisi dan recall model saya:\n",
    "\n",
    "$$\\text{F1 Score} = 2 \\times \\frac{\\text{Presisi} \\times \\text{Recall}}{\\text{Presisi} + \\text{Recall}}$$\n",
    "\n",
    "Saya menggunakan F1 Score karena sangat berguna dalam dataset saya yang mungkin memiliki distribusi kelas yang tidak seimbang.\n",
    "\n",
    "### AUC (Area Under the ROC Curve)\n",
    "AUC dalam analisis saya mewakili kemampuan diskriminatif model. Nilai ini menunjukkan probabilitas bahwa model saya akan memberikan skor lebih tinggi pada instance positif acak dibandingkan instance negatif acak:\n",
    "- 0,5 berarti model saya tidak lebih baik dari tebakan acak\n",
    "- 1,0 berarti model saya sempurna dalam membedakan kelas\n",
    "\n",
    "## 5. Analisis Kurva ROC\n",
    "\n",
    "Dari kurva ROC yang saya plot:\n",
    "\n",
    "- **Model CNN Saya**: Kurvanya lebih dekat ke sudut kiri atas dengan AUC 0,9851, menunjukkan model ini memiliki kemampuan diskriminasi yang sangat baik.\n",
    "- **Model MLP Saya**: Kurvanya sedikit lebih diagonal dengan AUC 0,9667, menunjukkan performa yang baik namun tidak sebaik CNN.\n",
    "\n",
    "Saya memperhatikan bahwa kedua model menunjukkan kurva yang belum ideal (yang seharusnya memeluk sudut kiri atas), yang menunjukkan masih ada ruang untuk saya tingkatkan pada kedua model.\n",
    "\n",
    "## 6. Kesimpulan\n",
    "\n",
    "Dari eksperimen saya, model CNN mengungguli model MLP di semua metrik:\n",
    "- Akurasi lebih tinggi (86,89% vs 80,29%)\n",
    "- Presisi lebih baik (85,54% vs 78,90%)\n",
    "- Recall lebih baik (86,26% vs 78,78%)\n",
    "- F1 score lebih tinggi (85,74% vs 78,79%)\n",
    "- AUC lebih tinggi (0,9851 vs 0,9667)\n",
    "\n",
    "Namun, model MLP saya dilatih jauh lebih cepat (8m 47,2d vs 32m 25,4d), yang membuatnya lebih efisien untuk kasus penggunaan dimana waktu komputasi terbatas dan performa ~80% sudah mencukupi.\n",
    "\n",
    "Saya menyimpulkan bahwa kinerja unggul model CNN saya kemungkinan disebabkan oleh kemampuannya menangkap pola spasial dalam data, yang sangat bermanfaat untuk dataset yang saya gunakan."
   ]
  },
  {
   "cell_type": "markdown",
   "metadata": {},
   "source": []
  }
 ],
 "metadata": {
  "kernelspec": {
   "display_name": "base",
   "language": "python",
   "name": "python3"
  },
  "language_info": {
   "codemirror_mode": {
    "name": "ipython",
    "version": 3
   },
   "file_extension": ".py",
   "mimetype": "text/x-python",
   "name": "python",
   "nbconvert_exporter": "python",
   "pygments_lexer": "ipython3",
   "version": "3.11.7"
  }
 },
 "nbformat": 4,
 "nbformat_minor": 2
}
